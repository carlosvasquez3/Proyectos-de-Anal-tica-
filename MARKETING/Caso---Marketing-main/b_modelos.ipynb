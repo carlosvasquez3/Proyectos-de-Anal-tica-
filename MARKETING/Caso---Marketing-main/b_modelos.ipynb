{
  "nbformat": 4,
  "nbformat_minor": 0,
  "metadata": {
    "colab": {
      "provenance": [],
      "include_colab_link": true
    },
    "kernelspec": {
      "name": "python3",
      "display_name": "Python 3"
    },
    "language_info": {
      "name": "python"
    }
  },
  "cells": [
    {
      "cell_type": "markdown",
      "metadata": {
        "id": "view-in-github",
        "colab_type": "text"
      },
      "source": [
        "<a href=\"https://colab.research.google.com/github/LorenaGiVa/Caso---Marketing/blob/main/b_modelos.ipynb\" target=\"_parent\"><img src=\"https://colab.research.google.com/assets/colab-badge.svg\" alt=\"Open In Colab\"/></a>"
      ]
    },
    {
      "cell_type": "code",
      "source": [
        "from google.colab import drive\n",
        "drive.mount('/content/drive')"
      ],
      "metadata": {
        "colab": {
          "base_uri": "https://localhost:8080/"
        },
        "id": "EphtiL-V0hy2",
        "outputId": "ddeeaa07-6a50-43a6-85ca-0d387571f7bf"
      },
      "execution_count": 1,
      "outputs": [
        {
          "output_type": "stream",
          "name": "stdout",
          "text": [
            "Mounted at /content/drive\n"
          ]
        }
      ]
    },
    {
      "cell_type": "code",
      "execution_count": 2,
      "metadata": {
        "id": "D0n_Fnjnz8PT"
      },
      "outputs": [],
      "source": [
        "import numpy as np\n",
        "import joblib ### para cargar array\n",
        "########Paquetes para NN #########\n",
        "import tensorflow as tf\n",
        "from sklearn import metrics ### para analizar modelo\n",
        "from sklearn.ensemble import RandomForestClassifier  ### para analizar modelo\n",
        "import pandas as pd\n",
        "from sklearn import tree\n",
        "import cv2 ### para leer imagenes jpeg\n",
        "from matplotlib import pyplot as plt #"
      ]
    },
    {
      "cell_type": "code",
      "source": [
        "### cargar bases_procesadas ####\n",
        "x_train = joblib.load('/content/drive/MyDrive/TB_Chest_Radiography_Database/salidas/x_train.pkl')\n",
        "y_train = joblib.load('/content/drive/MyDrive/TB_Chest_Radiography_Database/salidas/y_train.pkl')\n",
        "x_test = joblib.load('/content/drive/MyDrive/TB_Chest_Radiography_Database/salidas/x_test.pkl')\n",
        "y_test = joblib.load('/content/drive/MyDrive/TB_Chest_Radiography_Database/salidas/y_test.pkl')"
      ],
      "metadata": {
        "id": "KgxSXwb30DrX"
      },
      "execution_count": 3,
      "outputs": []
    },
    {
      "cell_type": "code",
      "source": [
        "x_train.max()"
      ],
      "metadata": {
        "id": "OPyKmjuEJ6xK",
        "outputId": "4812864e-5f22-495a-8d8f-56f01a398809",
        "colab": {
          "base_uri": "https://localhost:8080/"
        }
      },
      "execution_count": 4,
      "outputs": [
        {
          "output_type": "execute_result",
          "data": {
            "text/plain": [
              "255"
            ]
          },
          "metadata": {},
          "execution_count": 4
        }
      ]
    },
    {
      "cell_type": "code",
      "source": [
        "x_test.max()"
      ],
      "metadata": {
        "id": "WPs-lRm7KChF",
        "outputId": "a9875291-deb9-4b18-a574-a58486dcc4f1",
        "colab": {
          "base_uri": "https://localhost:8080/"
        }
      },
      "execution_count": 5,
      "outputs": [
        {
          "output_type": "execute_result",
          "data": {
            "text/plain": [
              "255"
            ]
          },
          "metadata": {},
          "execution_count": 5
        }
      ]
    },
    {
      "cell_type": "code",
      "source": [
        "#### Escalar ######################\n",
        "x_train = x_train.astype('float32') ## para poder escalarlo\n",
        "x_test = x_test.astype('float32') ## para poder escalarlo\n",
        "x_train /= 255 ### escalaro para que quede entre 0 y 1\n",
        "x_test /= 255\n",
        "\n",
        "###### verificar tamaños\n",
        "print(x_train.shape)\n",
        "x_test.shape"
      ],
      "metadata": {
        "colab": {
          "base_uri": "https://localhost:8080/"
        },
        "id": "E24SvmNi1FGi",
        "outputId": "cff39994-010b-4d37-d5b2-28ab56638ed7"
      },
      "execution_count": 6,
      "outputs": [
        {
          "output_type": "stream",
          "name": "stdout",
          "text": [
            "(3360, 100, 100, 3)\n"
          ]
        },
        {
          "output_type": "execute_result",
          "data": {
            "text/plain": [
              "(840, 100, 100, 3)"
            ]
          },
          "metadata": {},
          "execution_count": 6
        }
      ]
    },
    {
      "cell_type": "code",
      "source": [
        "np.product(x_train[1].shape) ## cantidad de variables por imagen"
      ],
      "metadata": {
        "colab": {
          "base_uri": "https://localhost:8080/"
        },
        "id": "Pq_IX90-2PAO",
        "outputId": "d3a0b21c-784f-4a1a-bf90-d356fb5671c3"
      },
      "execution_count": 7,
      "outputs": [
        {
          "output_type": "execute_result",
          "data": {
            "text/plain": [
              "30000"
            ]
          },
          "metadata": {},
          "execution_count": 7
        }
      ]
    },
    {
      "cell_type": "code",
      "source": [
        "np.unique(y_train, return_counts=True)"
      ],
      "metadata": {
        "id": "piHwmAixKcOD",
        "outputId": "0aaabc43-dfd5-4199-be29-cb24adb05cfd",
        "colab": {
          "base_uri": "https://localhost:8080/"
        }
      },
      "execution_count": 8,
      "outputs": [
        {
          "output_type": "execute_result",
          "data": {
            "text/plain": [
              "(array([0, 1]), array([2800,  560]))"
            ]
          },
          "metadata": {},
          "execution_count": 8
        }
      ]
    },
    {
      "cell_type": "code",
      "source": [
        "np.unique(y_test, return_counts=True)"
      ],
      "metadata": {
        "id": "sEjG-jPDKhWi",
        "outputId": "8899a74a-4a40-4a02-f6f6-1b0632e4b9aa",
        "colab": {
          "base_uri": "https://localhost:8080/"
        }
      },
      "execution_count": 9,
      "outputs": [
        {
          "output_type": "execute_result",
          "data": {
            "text/plain": [
              "(array([0, 1]), array([700, 140]))"
            ]
          },
          "metadata": {},
          "execution_count": 9
        }
      ]
    },
    {
      "cell_type": "code",
      "source": [
        "##### convertir a 1 d array ############\n",
        "x_train2 = x_train.reshape(3360,30000)\n",
        "x_test2 = x_test.reshape(840, 30000)\n",
        "print(x_train2.shape)\n",
        "x_test2.shape"
      ],
      "metadata": {
        "colab": {
          "base_uri": "https://localhost:8080/"
        },
        "id": "7d7h8kXC1tZr",
        "outputId": "78ea715d-da03-4f73-be3e-28534ec7092f"
      },
      "execution_count": 10,
      "outputs": [
        {
          "output_type": "stream",
          "name": "stdout",
          "text": [
            "(3360, 30000)\n"
          ]
        },
        {
          "output_type": "execute_result",
          "data": {
            "text/plain": [
              "(840, 30000)"
            ]
          },
          "metadata": {},
          "execution_count": 10
        }
      ]
    },
    {
      "cell_type": "markdown",
      "source": [
        "## Selección de indicador\n",
        "\n",
        "El equilibrio entre identificar correctamente a los pacientes con neumonía y evitar que se escapen casos positivos es crucial para la eficacia de un modelo de diagnóstico. Si un modelo clasifica incorrectamente a muchos pacientes como negativos cuando en realidad tienen neumonía (falsos negativos), podría resultar en un tratamiento inadecuado o en la falta de tratamiento para esos pacientes, lo que puede tener consecuencias graves para su salud y aumentar los costos a largo plazo. Por otro lado, si el modelo clasifica incorrectamente a muchos pacientes como positivos cuando no tienen neumonía (falsos positivos), esto podría generar gastos innecesarios en pruebas adicionales o tratamientos, así como una carga adicional para el sistema de salud.\n",
        "\n",
        "El AUC, al evaluar la capacidad del modelo para distinguir entre pacientes con neumonía y aquellos sin ella, ayuda a encontrar un equilibrio entre estos dos escenarios. Un AUC más alto indica que el modelo es mejor para discriminar entre casos positivos y negativos, lo que sugiere que se están minimizando tanto los falsos positivos como los falsos negativos. En otras palabras, un AUC alto indica que el modelo está clasificando correctamente a la mayoría de los pacientes con neumonía como positivos y a la mayoría de los pacientes sin neumonía como negativos, lo que reduce tanto los costos como los riesgos asociados con un diagnóstico incorrecto.\n"
      ],
      "metadata": {
        "id": "zST9iVZpK1uY"
      }
    },
    {
      "cell_type": "code",
      "source": [
        "############################################################\n",
        "################ Probar modelos de redes neuronales #########\n",
        "############################################################\n",
        "\n",
        "fc_model=tf.keras.models.Sequential([\n",
        "    tf.keras.layers.Flatten(input_shape=x_train.shape[1:]),\n",
        "    tf.keras.layers.Dense(128, activation='relu'),\n",
        "    tf.keras.layers.Dense(64, activation='relu'),\n",
        "    tf.keras.layers.Dense(1, activation='sigmoid')\n",
        "])"
      ],
      "metadata": {
        "id": "ZGPhcpG12u3O"
      },
      "execution_count": 11,
      "outputs": []
    },
    {
      "cell_type": "code",
      "source": [
        "##### configura el optimizador y la función para optimizar ##############\n",
        "fc_model.compile(optimizer='adam', loss='binary_crossentropy', metrics=['accuracy','AUC', 'Recall', 'Precision'])\n",
        "\n",
        "#####Entrenar el modelo usando el optimizador y arquitectura definidas #########\n",
        "fc_model.fit(x_train, y_train, batch_size=100, epochs=10, validation_data=(x_test, y_test))\n",
        "\n",
        "#########Evaluar el modelo ####################\n",
        "test_loss, test_acc, test_auc, test_recall, test_precision = fc_model.evaluate(x_test, y_test, verbose=2)\n",
        "print(\"Test auc:\", test_auc)"
      ],
      "metadata": {
        "id": "2rEYrh70mtlQ",
        "outputId": "f2281cd3-626e-44d6-810a-bdd5b69db4bd",
        "colab": {
          "base_uri": "https://localhost:8080/"
        }
      },
      "execution_count": 12,
      "outputs": [
        {
          "output_type": "stream",
          "name": "stdout",
          "text": [
            "Epoch 1/10\n",
            "34/34 [==============================] - 5s 124ms/step - loss: 3.2144 - accuracy: 0.7857 - auc: 0.6805 - recall: 0.3964 - precision: 0.3675 - val_loss: 0.4663 - val_accuracy: 0.8798 - val_auc: 0.8693 - val_recall: 0.3286 - val_precision: 0.8679\n",
            "Epoch 2/10\n",
            "34/34 [==============================] - 3s 100ms/step - loss: 0.3994 - accuracy: 0.8958 - auc: 0.8959 - recall: 0.6339 - precision: 0.7100 - val_loss: 0.3916 - val_accuracy: 0.8393 - val_auc: 0.9699 - val_recall: 0.0571 - val_precision: 0.7273\n",
            "Epoch 3/10\n",
            "34/34 [==============================] - 3s 79ms/step - loss: 0.1531 - accuracy: 0.9458 - auc: 0.9679 - recall: 0.7679 - precision: 0.8921 - val_loss: 0.1858 - val_accuracy: 0.9036 - val_auc: 0.9831 - val_recall: 0.4500 - val_precision: 0.9403\n",
            "Epoch 4/10\n",
            "34/34 [==============================] - 3s 89ms/step - loss: 0.1267 - accuracy: 0.9536 - auc: 0.9792 - recall: 0.7875 - precision: 0.9226 - val_loss: 0.2175 - val_accuracy: 0.8774 - val_auc: 0.9856 - val_recall: 0.2786 - val_precision: 0.9512\n",
            "Epoch 5/10\n",
            "34/34 [==============================] - 3s 83ms/step - loss: 0.1188 - accuracy: 0.9574 - auc: 0.9813 - recall: 0.8161 - precision: 0.9195 - val_loss: 0.4116 - val_accuracy: 0.8405 - val_auc: 0.9797 - val_recall: 0.0500 - val_precision: 0.8750\n",
            "Epoch 6/10\n",
            "34/34 [==============================] - 4s 128ms/step - loss: 0.1665 - accuracy: 0.9369 - auc: 0.9643 - recall: 0.7589 - precision: 0.8466 - val_loss: 0.2246 - val_accuracy: 0.8667 - val_auc: 0.9843 - val_recall: 0.2143 - val_precision: 0.9375\n",
            "Epoch 7/10\n",
            "34/34 [==============================] - 3s 82ms/step - loss: 0.1356 - accuracy: 0.9464 - auc: 0.9760 - recall: 0.7911 - precision: 0.8755 - val_loss: 0.2029 - val_accuracy: 0.8893 - val_auc: 0.9861 - val_recall: 0.3500 - val_precision: 0.9608\n",
            "Epoch 8/10\n",
            "34/34 [==============================] - 3s 79ms/step - loss: 0.1010 - accuracy: 0.9643 - auc: 0.9856 - recall: 0.8429 - precision: 0.9365 - val_loss: 0.4210 - val_accuracy: 0.8440 - val_auc: 0.9693 - val_recall: 0.0714 - val_precision: 0.9091\n",
            "Epoch 9/10\n",
            "34/34 [==============================] - 3s 81ms/step - loss: 0.0984 - accuracy: 0.9658 - auc: 0.9851 - recall: 0.8643 - precision: 0.9254 - val_loss: 0.1229 - val_accuracy: 0.9524 - val_auc: 0.9904 - val_recall: 0.7429 - val_precision: 0.9630\n",
            "Epoch 10/10\n",
            "34/34 [==============================] - 3s 91ms/step - loss: 0.0934 - accuracy: 0.9640 - auc: 0.9876 - recall: 0.8518 - precision: 0.9262 - val_loss: 0.1044 - val_accuracy: 0.9655 - val_auc: 0.9902 - val_recall: 0.8500 - val_precision: 0.9370\n",
            "27/27 - 0s - loss: 0.1044 - accuracy: 0.9655 - auc: 0.9902 - recall: 0.8500 - precision: 0.9370 - 280ms/epoch - 10ms/step\n",
            "Test auc: 0.9902092218399048\n"
          ]
        }
      ]
    },
    {
      "cell_type": "markdown",
      "source": [
        "Podemos observar que durante la última época del entrenamiento, el modelo alcanzó una pérdida de aproximadamente 0.1297 y una precisión de alrededor del 95.24% en los datos de validación. Además, el área bajo la curva (AUC) fue de aproximadamente 0.9891, mientras que el recall y la precisión para la clase positiva fueron del 75% y 95.45%, respectivamente. Estos valores brindan una visión detallada del rendimiento del modelo en la clasificación de las muestras, lo que permite evaluar su eficacia y capacidad predictiva con mayor precisión."
      ],
      "metadata": {
        "id": "0vgrrYPfFRNw"
      }
    },
    {
      "cell_type": "code",
      "source": [
        "###### matriz de confusión test\n",
        "pred_test=(fc_model.predict(x_test) > 0.80).astype('int')\n",
        "cm=metrics.confusion_matrix(y_test,pred_test, labels=[1,0])\n",
        "disp=metrics.ConfusionMatrixDisplay(cm,display_labels=['TB', 'Normal'])\n",
        "disp.plot()\n",
        "\n",
        "print(metrics.classification_report(y_test, pred_test))"
      ],
      "metadata": {
        "id": "s5IDdPj4nDr2",
        "outputId": "721dae7b-41e1-4b50-f0f0-2328111e251e",
        "colab": {
          "base_uri": "https://localhost:8080/",
          "height": 623
        }
      },
      "execution_count": 13,
      "outputs": [
        {
          "output_type": "stream",
          "name": "stdout",
          "text": [
            "27/27 [==============================] - 1s 15ms/step\n",
            "              precision    recall  f1-score   support\n",
            "\n",
            "           0       0.92      1.00      0.96       700\n",
            "           1       0.96      0.57      0.72       140\n",
            "\n",
            "    accuracy                           0.93       840\n",
            "   macro avg       0.94      0.78      0.84       840\n",
            "weighted avg       0.93      0.93      0.92       840\n",
            "\n"
          ]
        },
        {
          "output_type": "display_data",
          "data": {
            "text/plain": [
              "<Figure size 640x480 with 2 Axes>"
            ],
            "image/png": "[encoded data removed]"
          },
          "metadata": {}
        }
      ]
    },
    {
      "cell_type": "markdown",
      "source": [
        "En este matriz se pueden observar que hay 102 positivos que tienen tuberculosis, 38 falsos positivos y 4 que son falsos negativos. Se puede concluir que hay 695 personas que no sufren de tuberculosis. Todo esto se identifica gracias a la matriz de confusión de evaluación."
      ],
      "metadata": {
        "id": "nSKNAzEkLdTX"
      }
    },
    {
      "cell_type": "code",
      "source": [
        "# ver las predicciones del modelo\n",
        "import plotly.express as px\n",
        "import pandas as pd\n",
        "dis = fc_model.predict(x_test)\n",
        "hist = px.histogram(dis)\n",
        "hist.show()"
      ],
      "metadata": {
        "id": "tNiLnwvjSH0G",
        "outputId": "0252114d-03c8-4e6d-b62a-6e038f9cedec",
        "colab": {
          "base_uri": "https://localhost:8080/",
          "height": 559
        }
      },
      "execution_count": 15,
      "outputs": [
        {
          "output_type": "stream",
          "name": "stdout",
          "text": [
            "27/27 [==============================] - 0s 13ms/step\n"
          ]
        },
        {
          "output_type": "display_data",
          "data": {
            "text/html": [
              "<html>\n",
              "<head><meta charset=\"utf-8\" /></head>\n",
              "<body>\n",
              "    <div>            <script src=\"https://cdnjs.cloudflare.com/ajax/libs/mathjax/2.7.5/MathJax.js?config=TeX-AMS-MML_SVG\"></script><script type=\"text/javascript\">if (window.MathJax && window.MathJax.Hub && window.MathJax.Hub.Config) {window.MathJax.Hub.Config({SVG: {font: \"STIX-Web\"}});}</script>                <script type=\"text/javascript\">window.PlotlyConfig = {MathJaxConfig: 'local'};</script>\n",
              "        <script charset=\"utf-8\" src=\"https://cdn.plot.ly/plotly-2.24.1.min.js\"></script>                <div id=\"7bb1d303-53d1-4d38-ad11-9a50aba8b979\" class=\"plotly-graph-div\" style=\"height:525px; width:100%;\"></div>            <script type=\"text/javascript\">                                    window.PLOTLYENV=window.PLOTLYENV || {};                                    if (document.getElementById(\"7bb1d303-53d1-4d38-ad11-9a50aba8b979\")) {                    Plotly.newPlot(                        \"7bb1d303-53d1-4d38-ad11-9a50aba8b979\",                        [{\"alignmentgroup\":\"True\",\"bingroup\":\"x\",\"hovertemplate\":\"variable=0\\u003cbr\\u003evalue=%{x}\\u003cbr\\u003ecount=%{y}\\u003cextra\\u003e\\u003c\\u002fextra\\u003e\",\"legendgroup\":\"0\",\"marker\":{\"color\":\"#636efa\",\"pattern\":{\"shape\":\"\"}},\"name\":\"0\",\"offsetgroup\":\"0\",\"orientation\":\"v\",\"showlegend\":true,\"x\":[0.2906383275985718,0.477482408285141,0.7592771053314209,0.9719393849372864,0.7534005045890808,0.7862669825553894,0.6899569034576416,0.9497959613800049,0.7110647559165955,0.9892404079437256,0.8693953156471252,0.030225837603211403,0.8723699450492859,0.8873907923698425,0.7364584803581238,0.72685307264328,0.8035228252410889,0.923855185508728,0.9525651931762695,0.9529746770858765,0.9674397110939026,0.8944075107574463,0.8063814043998718,0.7296331524848938,0.9996435046195984,0.9226811528205872,0.8828929662704468,0.7562008500099182,0.14437353610992432,0.8343093991279602,0.7011855244636536,0.8982210159301758,0.2661867141723633,0.8447830677032471,0.5750797390937805,0.9396413564682007,0.4325414299964905,0.8787927031517029,0.8283771872520447,0.1471737027168274,0.9530586004257202,0.5727831125259399,0.7508220076560974,0.6051216125488281,0.9742891788482666,0.8982269763946533,0.7691338062286377,0.8463829755783081,0.8960586786270142,0.9012851715087891,0.6021621823310852,0.29837766289711,0.9994195103645325,0.9161416292190552,0.9492185711860657,0.8557780385017395,0.7962987422943115,0.8750348091125488,0.7470462918281555,0.6264051198959351,0.822084903717041,0.9257370829582214,0.4549376368522644,0.9999786019325256,0.3836269974708557,0.18869227170944214,0.8711958527565002,0.9258742332458496,0.6706968545913696,0.9161508083343506,0.19094529747962952,0.8424158096313477,0.4842134714126587,0.123505599796772,0.8407320976257324,0.9590251445770264,0.7636969685554504,0.1357186883687973,0.6765970587730408,0.8939534425735474,0.9107197523117065,0.9354279041290283,0.9106783270835876,0.636924147605896,0.7464110255241394,0.8726597428321838,0.883374035358429,0.8298441171646118,0.9893659949302673,0.6385959386825562,0.7065809965133667,0.9784702658653259,0.8934130072593689,0.6945751905441284,0.5844857692718506,0.9015026688575745,0.9517883658409119,0.9424600005149841,0.9642806053161621,0.9013842344284058,0.8725630640983582,0.9952189922332764,0.9645664691925049,0.9986107349395752,0.9933345913887024,0.9608482718467712,0.9734916090965271,0.8234172463417053,0.7956523299217224,0.35496798157691956,0.2558456361293793,0.9543443918228149,0.7908005714416504,0.888655424118042,0.7630627751350403,0.9109237790107727,0.954777181148529,0.9725919961929321,0.5350900292396545,0.8590563535690308,0.9002838730812073,0.9587553143501282,0.10339944064617157,0.8666789531707764,0.7903205752372742,0.8352028727531433,0.8704257607460022,0.8646077513694763,0.5980830788612366,0.597136378288269,0.471774697303772,0.8882548809051514,0.6719081401824951,0.7434228658676147,0.7830730080604553,0.25892364978790283,0.4669387638568878,0.5637726187705994,0.8875256776809692,0.9627360105514526,2.4110497179208323e-05,1.1677140037136269e-06,2.1076755729154684e-05,0.0017909391317516565,0.0012745599960908294,1.058037560142111e-05,0.0514068603515625,0.0020963994320482016,0.00106011051684618,0.006524829193949699,0.0001166538568213582,0.0027045283932238817,0.009244509041309357,0.0007241046405397356,0.011296767741441727,0.024737544357776642,0.0034258593805134296,0.0013084891252219677,0.0022468059323728085,0.0011913463240489364,4.866701146966079e-06,0.008019793778657913,0.4726817011833191,0.0008321119821630418,0.00013919152843300253,0.4721825122833252,0.01258336752653122,0.10036980360746384,0.007793295197188854,0.001386755844578147,3.0610056001023622e-06,0.0004196761001367122,0.009985818527638912,0.0018159247701987624,1.787310429790523e-05,0.0002046744921244681,0.00010217117232969031,0.0034210695885121822,0.1809006780385971,0.014724358916282654,0.0236783679574728,0.01622885838150978,0.030556147918105125,0.02165147475898266,0.0537501722574234,0.0033046661410480738,0.031892068684101105,0.021665779873728752,0.0003323608252685517,0.002929076086729765,0.06283459812402725,0.00476792873814702,0.002974963514134288,2.2464149878942408e-05,0.00011911419278476387,0.15635362267494202,0.028669463470578194,0.01524808444082737,0.0035741247702389956,7.139871740946546e-05,0.00014027237193658948,0.3118835985660553,0.11714266240596771,0.0009283189428970218,0.048736512660980225,0.0001761485473252833,0.0003209986025467515,0.0004036081372760236,0.004305685870349407,0.015293142758309841,0.001635588938370347,0.009348609484732151,0.26052621006965637,0.28422829508781433,0.013574180193245411,0.0009070240776054561,0.00047618287499062717,4.2026447772514075e-05,0.0005564040620811284,0.014604583382606506,0.0009131390834227204,0.00029025989351794124,4.6183868107618764e-05,0.05365944653749466,0.005197899881750345,0.044319190084934235,0.0022254178766161203,0.00030569848604500294,0.0001573222252773121,0.00012624793453142047,0.0006426316103897989,0.00027224599034525454,0.02264060266315937,0.00017093650239985436,0.0024136006832122803,6.949950329726562e-05,0.45158451795578003,3.558464231900871e-05,0.025385616347193718,0.0008272656705230474,0.00027801081887446344,0.00014253455447033048,0.2135975956916809,0.0015395341906696558,0.15738868713378906,0.19472533464431763,0.04704545810818672,0.0002161187439924106,0.1556633710861206,0.011071664281189442,0.014401598833501339,0.02743033692240715,0.0002696076699066907,0.04645936191082001,0.015231969766318798,0.00033164425985887647,0.0014733400894328952,0.0001203201463795267,0.007601637858897448,0.07092097401618958,4.6049208322074264e-05,0.015200987458229065,0.001459387713111937,0.0054101194255054,0.044463858008384705,0.3076903820037842,9.136679000221193e-05,0.09159458428621292,0.0044945101253688335,0.027254825457930565,5.1111466746078804e-05,0.03574622422456741,0.005931347142904997,0.07856326550245285,0.012946142815053463,2.2536545657203533e-05,0.06435151398181915,0.051681093871593475,0.05479965731501579,0.013218448497354984,3.533063500071876e-05,0.0003389068879187107,0.11400105804204941,6.578511238330975e-05,0.027529070153832436,0.014650908298790455,0.00019673975475598127,0.021969564259052277,0.0005904664285480976,0.07832926511764526,0.22425854206085205,0.0007041519857011735,0.009549513459205627,9.885120380204171e-05,0.002347614150494337,9.394449079991318e-06,0.18088823556900024,0.5096062421798706,0.00020719526219181716,0.01326001062989235,0.02208906039595604,0.007841301150619984,0.009532426483929157,0.0017135792877525091,0.00013007422967348248,0.00023665082699153572,0.02093358151614666,2.7854632207890972e-05,0.0009986325167119503,0.0417812280356884,0.1510288566350937,0.0012052531819790602,0.002046354115009308,0.0001657768152654171,0.058151256293058395,0.00020169532217551023,0.0002477220259606838,0.33918532729148865,0.0025120144709944725,0.0028281279373914003,0.0691552460193634,0.002682802965864539,0.0618288628757,2.2485708541353233e-05,0.026195110753178596,0.0008688892121426761,0.006980301812291145,0.07847617566585541,9.625704842619598e-05,0.05918160080909729,2.7889240300282836e-05,0.0009612362482585013,7.614291098434478e-05,0.006893792189657688,0.0031258603557944298,0.010129307396709919,0.0010148357832804322,0.09901432693004608,0.003400588408112526,0.007430736441165209,9.445595787838101e-05,0.008876929059624672,0.0005392606253735721,4.41687589045614e-05,0.012927559204399586,2.2061240088078193e-05,0.34274089336395264,0.00017581631254870445,0.00045846603461541235,0.0014644494513049722,0.05409891530871391,0.013505930081009865,0.0005044068675488234,0.0008482480770908296,0.003512519644573331,0.0556948222219944,0.00014503501006402075,0.003514095675200224,0.0008763791411183774,0.0028980798088014126,0.02839939296245575,0.00015149370301514864,0.01575218327343464,0.6233868598937988,0.002934277756139636,0.009476655162870884,6.93392348694033e-06,0.21260546147823334,0.0006649018614552915,0.042607150971889496,0.001258731703273952,0.004639619495719671,0.012398216873407364,6.31917646387592e-05,0.0741296261548996,0.5159501433372498,0.007008930668234825,0.001596556743606925,0.13059809803962708,0.004623080138117075,4.270770659786649e-05,0.015429888851940632,0.0010719560086727142,0.36737632751464844,0.08103527128696442,8.883679402060807e-05,8.480490214424208e-05,0.0004060270148329437,0.001639620983041823,0.06537292152643204,0.0005713889840990305,0.0005981403519399464,0.0003371229686308652,0.8184136748313904,0.00020804408995900303,0.0005491155898198485,0.0019379773875698447,0.05914486572146416,5.032389526604675e-05,0.046565942466259,2.052179661404807e-05,0.0013561855303123593,9.847881301539019e-05,0.02721364237368107,0.025893883779644966,1.6806363419163972e-05,0.0005786297260783613,0.026170307770371437,1.8511314920033328e-05,9.265701237382018e-07,4.044519300805405e-05,0.0003563615318853408,0.007283286657184362,0.0018289916915819049,0.0005896745715290308,0.0015291287563741207,0.0014730091206729412,0.01269622053951025,0.05692185088992119,0.001439155312255025,0.0010342514142394066,0.004867207258939743,0.01689533144235611,0.00472673587501049,0.0011413254542276263,0.06114448606967926,5.537458036997123e-06,0.008513141423463821,0.004828990902751684,0.0029857433401048183,0.03356495127081871,0.006154526025056839,0.006877853535115719,0.0010048456024378538,0.0019298153929412365,0.0025544785894453526,0.4817834496498108,0.0035121857654303312,0.003068717895075679,0.7287265062332153,0.013201790861785412,0.0060927351005375385,0.020900066941976547,0.0021043228916823864,0.004177724476903677,0.020665425807237625,0.00010822279728017747,0.04635334759950638,0.13102206587791443,0.00014133249351289123,6.1267851378943305e-06,0.08745178580284119,0.1222430169582367,0.04305607080459595,0.000851034710649401,5.709229299100116e-05,0.0005355203757062554,0.07062044739723206,0.41295742988586426,0.016774265095591545,0.0015311890747398138,0.28547942638397217,0.024048907682299614,7.213358912849799e-05,0.11206475645303726,0.03097188100218773,0.026900481432676315,0.0021630083210766315,0.17832010984420776,0.002543566981330514,0.0057012103497982025,0.10727740079164505,0.003022762481123209,3.6804900446441025e-05,0.022420749068260193,0.12721240520477295,0.0012585470685735345,8.036587678361684e-05,0.0006063923356123269,0.0005201820167712867,0.20300401747226715,0.006804543547332287,0.020165491849184036,0.07393310219049454,0.00657190615311265,0.00914065819233656,0.20131970942020416,0.11033070832490921,0.0012156739830970764,7.885712875577156e-06,0.0002134605310857296,0.0014558121329173446,0.0010735441464930773,0.27405956387519836,0.0017684738850221038,0.04299779608845711,0.11107052117586136,0.0005720079643651843,0.01178615354001522,0.05130938068032265,9.879258141154423e-05,0.011391941457986832,0.008277710527181625,0.004172308370471001,2.1134683265700005e-05,0.0009915640112012625,0.0003772833151742816,0.0054810442961752415,0.4642578661441803,0.0012819964904338121,0.001339862821623683,0.0013760128058493137,0.005325123202055693,0.01784714125096798,0.0019326169276610017,0.002484498778358102,0.0008712602430023253,0.000590223353356123,0.0001940380607265979,7.834514690330252e-06,0.059258535504341125,0.011180787347257137,0.0008339901105500758,0.004468115512281656,0.04696130380034447,0.0002183648757636547,2.415417657175567e-05,0.0008206798229366541,0.00044793757842853665,7.269444176927209e-05,0.002552175894379616,0.002190516097471118,0.009551028721034527,9.552462142892182e-05,0.0005002488614991307,0.00037266986328177154,0.00012616057938430458,0.008497089147567749,0.0023646284826099873,0.000522257701959461,5.15590982104186e-05,0.03544196859002113,0.0013548351125791669,3.3396984235878335e-06,1.6583720935159363e-05,0.000493542174808681,0.0012226764811202884,0.00011404079850763083,0.0014029111480340362,0.1108088418841362,0.00022391196398530155,4.4939908548258245e-05,5.793404852738604e-05,1.4334101251733955e-05,6.923173350514844e-05,0.0003372624923940748,0.0011244943598285317,0.0013964407844468951,0.01859329268336296,0.046804822981357574,0.007752854842692614,0.003045737510547042,0.0007211572374217212,0.058074623346328735,0.0023738660383969545,0.00032564252614974976,0.40005895495414734,7.233652286231518e-05,0.007792261894792318,0.00898495689034462,0.028222935274243355,6.406904049072182e-06,0.00276389392092824,0.0005445507704280317,0.01619740016758442,1.6920932466746308e-05,0.0008129525231197476,0.02531539835035801,0.0007549684378318489,1.581233118486125e-05,0.0003849110216833651,0.026037639006972313,0.01245063915848732,0.0591215156018734,0.02332269586622715,0.015806807205080986,2.6417634217068553e-05,1.865859485405963e-05,0.005184258334338665,4.006743984064087e-05,0.014091006480157375,0.005684713367372751,0.024859871715307236,0.0021108214277774096,0.24801278114318848,0.05491219460964203,0.47629812359809875,0.0007261252030730247,0.00038547354051843286,0.012723960913717747,0.005621851421892643,0.018097391352057457,1.0324387403670698e-05,0.05480113998055458,0.0015217933105304837,1.7179461792693473e-05,0.02732454426586628,0.0007713527884334326,0.02379828877747059,0.00832047127187252,0.04235856607556343,0.028477072715759277,0.2129613608121872,0.002575014950707555,0.03608621656894684,0.00170636095572263,0.15921594202518463,0.007005308289080858,0.0009131861152127385,1.8825912775355391e-06,0.027538469061255455,0.8375390768051147,0.02277461253106594,0.00013742643932346255,0.00046960884355939925,0.0004327026545070112,0.0005671199760399759,0.003347318386659026,0.0006900997250340879,0.1032872200012207,0.0003983780916314572,0.011436427012085915,0.1790865957736969,0.002068684669211507,0.017467059195041656,0.011101609095931053,0.0002560303546488285,0.0002304074150742963,0.001954233506694436,0.0028067573439329863,0.01225974503904581,0.0030313855968415737,0.015750056132674217,0.00958732608705759,2.8586243843164993e-06,0.01393064670264721,0.02813941054046154,0.03344864025712013,0.0043043941259384155,0.03667273744940758,0.009259544312953949,0.0007413822459056973,8.032191090023844e-07,0.00680552376434207,7.969854050315917e-05,0.47377243638038635,0.0004251726786606014,0.022344037890434265,0.00020831167057622224,0.05997646227478981,8.670346142025664e-05,0.0004915561876259744,6.268604920478538e-05,0.00021137083240319043,0.08388016372919083,0.006322186905890703,0.00011516266386024654,7.098812056938186e-05,0.0013681775890290737,0.0011711294064298272,0.0005910463514737785,0.9688631296157837,9.209649579133838e-05,0.009932520799338818,3.8830145058454946e-05,0.0018121463945135474,0.0010439228499308228,0.0030616363510489464,0.08422672003507614,2.106112333422061e-05,0.011251821182668209,0.0001447710965294391,0.000860641070175916,0.0007056970498524606,0.08347403258085251,0.005929638631641865,0.10007482767105103,0.0012649911222979426,0.0005902019911445677,0.01445845514535904,5.120454807183705e-05,0.0001851515844464302,0.0005115798558108509,0.020457429811358452,0.001067325589247048,0.06190392002463341,0.012958311475813389,0.00013884132204111665,0.00011334176087984815,0.053504109382629395,0.0360187366604805,0.06830944120883942,7.084340904839337e-05,1.4374579677678412e-06,0.00289512169547379,4.075967081007548e-05,0.0020936003420501947,1.2450095709937159e-05,0.00022234785137698054,0.001204635831527412,0.0860067754983902,0.0004824053030461073,0.08498599380254745,0.00610389094799757,0.002709012944251299,0.18856091797351837,1.9162183889420703e-05,0.04115192964673042,0.001410961034707725,0.016070904210209846,0.0018263229867443442,0.0001252178190043196,0.00019262419664300978,0.002611432457342744,0.002653492381796241,0.11717856675386429,0.0071902708150446415,0.01753465086221695,7.021347846603021e-05,0.0012852192157879472,0.028932053595781326,1.1551642273843754e-05,0.004526729695498943,0.002481881296262145,0.0005239489255473018,0.003804055042564869,5.275998410070315e-05,0.020282195881009102,0.0029861631337553263,0.00015123591583687812,0.0020339738111943007,0.0003784143482334912,4.64910663140472e-05,0.04024127498269081,0.00011061328405048698,0.003442157991230488,0.03338734060525894,0.015000883489847183,0.00014914081839378923,0.0004880285123363137,0.009642140939831734,0.036360424011945724,0.028146035969257355,0.00016551399312447757,0.0033736885525286198,0.004043813794851303,0.0001996693608816713,0.031002288684248924,0.0001162884509540163,3.457983257248998e-05,4.992086178390309e-05,0.12765267491340637,0.0021757290232926607,0.21369051933288574,0.000593030359596014,0.011859690770506859,0.5487217903137207,0.00013038692122790962,0.002918616868555546,0.004475187975913286,0.3294784128665924,0.0008754543960094452,0.009132732637226582,0.00012055810657329857,0.007098515518009663,0.01275180745869875,0.0011533540673553944,0.017649630084633827,0.0003341329575050622,0.013540713116526604,0.0022039981558918953,0.0002958442782983184,0.05954168364405632,1.4853219909127802e-05,0.000342195708071813,7.462188659701496e-05,0.009279794059693813,0.07996048778295517,3.448715870035812e-05,0.00020247801148798317,0.0013246521120890975,0.00029436437762342393,0.050840336829423904,0.0027691612485796213,0.05260975658893585,0.43066930770874023,0.0005355969769880176,0.08447449654340744,3.442656816332601e-05,0.019926968961954117,0.0010824044002220035,0.013141917064785957,1.1672592336253729e-05,3.1114552257349715e-05,0.0008451177855022252,0.01768958941102028,0.0004220101109240204,0.19005846977233887,0.00021975212439429015,0.02468394674360752,0.000365244981367141,8.378404891118407e-05,3.260952507844195e-05,0.018370438367128372,0.0003175166784785688,0.003343855729326606,0.0033469556365162134,0.0048097893595695496,0.00042966922046616673,0.043760623782873154,0.39552319049835205,0.04846522957086563,0.006080826744437218,0.024184023961424828,0.03987959772348404,0.029733244329690933,0.0038554866332560778,0.010537788271903992,0.02157665230333805,0.00010510053107282147,0.001266363076865673,0.011846309527754784,8.760836499277502e-05,4.898607949144207e-05,0.003937321715056896,0.022645458579063416,0.11125596612691879,0.0021361294202506542,0.1446940302848816,0.00026441350928507745],\"xaxis\":\"x\",\"yaxis\":\"y\",\"type\":\"histogram\"}],                        {\"template\":{\"data\":{\"histogram2dcontour\":[{\"type\":\"histogram2dcontour\",\"colorbar\":{\"outlinewidth\":0,\"ticks\":\"\"},\"colorscale\":[[0.0,\"#0d0887\"],[0.1111111111111111,\"#46039f\"],[0.2222222222222222,\"#7201a8\"],[0.3333333333333333,\"#9c179e\"],[0.4444444444444444,\"#bd3786\"],[0.5555555555555556,\"#d8576b\"],[0.6666666666666666,\"#ed7953\"],[0.7777777777777778,\"#fb9f3a\"],[0.8888888888888888,\"#fdca26\"],[1.0,\"#f0f921\"]]}],\"choropleth\":[{\"type\":\"choropleth\",\"colorbar\":{\"outlinewidth\":0,\"ticks\":\"\"}}],\"histogram2d\":[{\"type\":\"histogram2d\",\"colorbar\":{\"outlinewidth\":0,\"ticks\":\"\"},\"colorscale\":[[0.0,\"#0d0887\"],[0.1111111111111111,\"#46039f\"],[0.2222222222222222,\"#7201a8\"],[0.3333333333333333,\"#9c179e\"],[0.4444444444444444,\"#bd3786\"],[0.5555555555555556,\"#d8576b\"],[0.6666666666666666,\"#ed7953\"],[0.7777777777777778,\"#fb9f3a\"],[0.8888888888888888,\"#fdca26\"],[1.0,\"#f0f921\"]]}],\"heatmap\":[{\"type\":\"heatmap\",\"colorbar\":{\"outlinewidth\":0,\"ticks\":\"\"},\"colorscale\":[[0.0,\"#0d0887\"],[0.1111111111111111,\"#46039f\"],[0.2222222222222222,\"#7201a8\"],[0.3333333333333333,\"#9c179e\"],[0.4444444444444444,\"#bd3786\"],[0.5555555555555556,\"#d8576b\"],[0.6666666666666666,\"#ed7953\"],[0.7777777777777778,\"#fb9f3a\"],[0.8888888888888888,\"#fdca26\"],[1.0,\"#f0f921\"]]}],\"heatmapgl\":[{\"type\":\"heatmapgl\",\"colorbar\":{\"outlinewidth\":0,\"ticks\":\"\"},\"colorscale\":[[0.0,\"#0d0887\"],[0.1111111111111111,\"#46039f\"],[0.2222222222222222,\"#7201a8\"],[0.3333333333333333,\"#9c179e\"],[0.4444444444444444,\"#bd3786\"],[0.5555555555555556,\"#d8576b\"],[0.6666666666666666,\"#ed7953\"],[0.7777777777777778,\"#fb9f3a\"],[0.8888888888888888,\"#fdca26\"],[1.0,\"#f0f921\"]]}],\"contourcarpet\":[{\"type\":\"contourcarpet\",\"colorbar\":{\"outlinewidth\":0,\"ticks\":\"\"}}],\"contour\":[{\"type\":\"contour\",\"colorbar\":{\"outlinewidth\":0,\"ticks\":\"\"},\"colorscale\":[[0.0,\"#0d0887\"],[0.1111111111111111,\"#46039f\"],[0.2222222222222222,\"#7201a8\"],[0.3333333333333333,\"#9c179e\"],[0.4444444444444444,\"#bd3786\"],[0.5555555555555556,\"#d8576b\"],[0.6666666666666666,\"#ed7953\"],[0.7777777777777778,\"#fb9f3a\"],[0.8888888888888888,\"#fdca26\"],[1.0,\"#f0f921\"]]}],\"surface\":[{\"type\":\"surface\",\"colorbar\":{\"outlinewidth\":0,\"ticks\":\"\"},\"colorscale\":[[0.0,\"#0d0887\"],[0.1111111111111111,\"#46039f\"],[0.2222222222222222,\"#7201a8\"],[0.3333333333333333,\"#9c179e\"],[0.4444444444444444,\"#bd3786\"],[0.5555555555555556,\"#d8576b\"],[0.6666666666666666,\"#ed7953\"],[0.7777777777777778,\"#fb9f3a\"],[0.8888888888888888,\"#fdca26\"],[1.0,\"#f0f921\"]]}],\"mesh3d\":[{\"type\":\"mesh3d\",\"colorbar\":{\"outlinewidth\":0,\"ticks\":\"\"}}],\"scatter\":[{\"fillpattern\":{\"fillmode\":\"overlay\",\"size\":10,\"solidity\":0.2},\"type\":\"scatter\"}],\"parcoords\":[{\"type\":\"parcoords\",\"line\":{\"colorbar\":{\"outlinewidth\":0,\"ticks\":\"\"}}}],\"scatterpolargl\":[{\"type\":\"scatterpolargl\",\"marker\":{\"colorbar\":{\"outlinewidth\":0,\"ticks\":\"\"}}}],\"bar\":[{\"error_x\":{\"color\":\"#2a3f5f\"},\"error_y\":{\"color\":\"#2a3f5f\"},\"marker\":{\"line\":{\"color\":\"#E5ECF6\",\"width\":0.5},\"pattern\":{\"fillmode\":\"overlay\",\"size\":10,\"solidity\":0.2}},\"type\":\"bar\"}],\"scattergeo\":[{\"type\":\"scattergeo\",\"marker\":{\"colorbar\":{\"outlinewidth\":0,\"ticks\":\"\"}}}],\"scatterpolar\":[{\"type\":\"scatterpolar\",\"marker\":{\"colorbar\":{\"outlinewidth\":0,\"ticks\":\"\"}}}],\"histogram\":[{\"marker\":{\"pattern\":{\"fillmode\":\"overlay\",\"size\":10,\"solidity\":0.2}},\"type\":\"histogram\"}],\"scattergl\":[{\"type\":\"scattergl\",\"marker\":{\"colorbar\":{\"outlinewidth\":0,\"ticks\":\"\"}}}],\"scatter3d\":[{\"type\":\"scatter3d\",\"line\":{\"colorbar\":{\"outlinewidth\":0,\"ticks\":\"\"}},\"marker\":{\"colorbar\":{\"outlinewidth\":0,\"ticks\":\"\"}}}],\"scattermapbox\":[{\"type\":\"scattermapbox\",\"marker\":{\"colorbar\":{\"outlinewidth\":0,\"ticks\":\"\"}}}],\"scatterternary\":[{\"type\":\"scatterternary\",\"marker\":{\"colorbar\":{\"outlinewidth\":0,\"ticks\":\"\"}}}],\"scattercarpet\":[{\"type\":\"scattercarpet\",\"marker\":{\"colorbar\":{\"outlinewidth\":0,\"ticks\":\"\"}}}],\"carpet\":[{\"aaxis\":{\"endlinecolor\":\"#2a3f5f\",\"gridcolor\":\"white\",\"linecolor\":\"white\",\"minorgridcolor\":\"white\",\"startlinecolor\":\"#2a3f5f\"},\"baxis\":{\"endlinecolor\":\"#2a3f5f\",\"gridcolor\":\"white\",\"linecolor\":\"white\",\"minorgridcolor\":\"white\",\"startlinecolor\":\"#2a3f5f\"},\"type\":\"carpet\"}],\"table\":[{\"cells\":{\"fill\":{\"color\":\"#EBF0F8\"},\"line\":{\"color\":\"white\"}},\"header\":{\"fill\":{\"color\":\"#C8D4E3\"},\"line\":{\"color\":\"white\"}},\"type\":\"table\"}],\"barpolar\":[{\"marker\":{\"line\":{\"color\":\"#E5ECF6\",\"width\":0.5},\"pattern\":{\"fillmode\":\"overlay\",\"size\":10,\"solidity\":0.2}},\"type\":\"barpolar\"}],\"pie\":[{\"automargin\":true,\"type\":\"pie\"}]},\"layout\":{\"autotypenumbers\":\"strict\",\"colorway\":[\"#636efa\",\"#EF553B\",\"#00cc96\",\"#ab63fa\",\"#FFA15A\",\"#19d3f3\",\"#FF6692\",\"#B6E880\",\"#FF97FF\",\"#FECB52\"],\"font\":{\"color\":\"#2a3f5f\"},\"hovermode\":\"closest\",\"hoverlabel\":{\"align\":\"left\"},\"paper_bgcolor\":\"white\",\"plot_bgcolor\":\"#E5ECF6\",\"polar\":{\"bgcolor\":\"#E5ECF6\",\"angularaxis\":{\"gridcolor\":\"white\",\"linecolor\":\"white\",\"ticks\":\"\"},\"radialaxis\":{\"gridcolor\":\"white\",\"linecolor\":\"white\",\"ticks\":\"\"}},\"ternary\":{\"bgcolor\":\"#E5ECF6\",\"aaxis\":{\"gridcolor\":\"white\",\"linecolor\":\"white\",\"ticks\":\"\"},\"baxis\":{\"gridcolor\":\"white\",\"linecolor\":\"white\",\"ticks\":\"\"},\"caxis\":{\"gridcolor\":\"white\",\"linecolor\":\"white\",\"ticks\":\"\"}},\"coloraxis\":{\"colorbar\":{\"outlinewidth\":0,\"ticks\":\"\"}},\"colorscale\":{\"sequential\":[[0.0,\"#0d0887\"],[0.1111111111111111,\"#46039f\"],[0.2222222222222222,\"#7201a8\"],[0.3333333333333333,\"#9c179e\"],[0.4444444444444444,\"#bd3786\"],[0.5555555555555556,\"#d8576b\"],[0.6666666666666666,\"#ed7953\"],[0.7777777777777778,\"#fb9f3a\"],[0.8888888888888888,\"#fdca26\"],[1.0,\"#f0f921\"]],\"sequentialminus\":[[0.0,\"#0d0887\"],[0.1111111111111111,\"#46039f\"],[0.2222222222222222,\"#7201a8\"],[0.3333333333333333,\"#9c179e\"],[0.4444444444444444,\"#bd3786\"],[0.5555555555555556,\"#d8576b\"],[0.6666666666666666,\"#ed7953\"],[0.7777777777777778,\"#fb9f3a\"],[0.8888888888888888,\"#fdca26\"],[1.0,\"#f0f921\"]],\"diverging\":[[0,\"#8e0152\"],[0.1,\"#c51b7d\"],[0.2,\"#de77ae\"],[0.3,\"#f1b6da\"],[0.4,\"#fde0ef\"],[0.5,\"#f7f7f7\"],[0.6,\"#e6f5d0\"],[0.7,\"#b8e186\"],[0.8,\"#7fbc41\"],[0.9,\"#4d9221\"],[1,\"#276419\"]]},\"xaxis\":{\"gridcolor\":\"white\",\"linecolor\":\"white\",\"ticks\":\"\",\"title\":{\"standoff\":15},\"zerolinecolor\":\"white\",\"automargin\":true,\"zerolinewidth\":2},\"yaxis\":{\"gridcolor\":\"white\",\"linecolor\":\"white\",\"ticks\":\"\",\"title\":{\"standoff\":15},\"zerolinecolor\":\"white\",\"automargin\":true,\"zerolinewidth\":2},\"scene\":{\"xaxis\":{\"backgroundcolor\":\"#E5ECF6\",\"gridcolor\":\"white\",\"linecolor\":\"white\",\"showbackground\":true,\"ticks\":\"\",\"zerolinecolor\":\"white\",\"gridwidth\":2},\"yaxis\":{\"backgroundcolor\":\"#E5ECF6\",\"gridcolor\":\"white\",\"linecolor\":\"white\",\"showbackground\":true,\"ticks\":\"\",\"zerolinecolor\":\"white\",\"gridwidth\":2},\"zaxis\":{\"backgroundcolor\":\"#E5ECF6\",\"gridcolor\":\"white\",\"linecolor\":\"white\",\"showbackground\":true,\"ticks\":\"\",\"zerolinecolor\":\"white\",\"gridwidth\":2}},\"shapedefaults\":{\"line\":{\"color\":\"#2a3f5f\"}},\"annotationdefaults\":{\"arrowcolor\":\"#2a3f5f\",\"arrowhead\":0,\"arrowwidth\":1},\"geo\":{\"bgcolor\":\"white\",\"landcolor\":\"#E5ECF6\",\"subunitcolor\":\"white\",\"showland\":true,\"showlakes\":true,\"lakecolor\":\"white\"},\"title\":{\"x\":0.05},\"mapbox\":{\"style\":\"light\"}}},\"xaxis\":{\"anchor\":\"y\",\"domain\":[0.0,1.0],\"title\":{\"text\":\"value\"}},\"yaxis\":{\"anchor\":\"x\",\"domain\":[0.0,1.0],\"title\":{\"text\":\"count\"}},\"legend\":{\"title\":{\"text\":\"variable\"},\"tracegroupgap\":0},\"margin\":{\"t\":60},\"barmode\":\"relative\"},                        {\"responsive\": true}                    ).then(function(){\n",
              "                            \n",
              "var gd = document.getElementById('7bb1d303-53d1-4d38-ad11-9a50aba8b979');\n",
              "var x = new MutationObserver(function (mutations, observer) {{\n",
              "        var display = window.getComputedStyle(gd).display;\n",
              "        if (!display || display === 'none') {{\n",
              "            console.log([gd, 'removed!']);\n",
              "            Plotly.purge(gd);\n",
              "            observer.disconnect();\n",
              "        }}\n",
              "}});\n",
              "\n",
              "// Listen for the removal of the full notebook cells\n",
              "var notebookContainer = gd.closest('#notebook-container');\n",
              "if (notebookContainer) {{\n",
              "    x.observe(notebookContainer, {childList: true});\n",
              "}}\n",
              "\n",
              "// Listen for the clearing of the current output cell\n",
              "var outputEl = gd.closest('.output');\n",
              "if (outputEl) {{\n",
              "    x.observe(outputEl, {childList: true});\n",
              "}}\n",
              "\n",
              "                        })                };                            </script>        </div>\n",
              "</body>\n",
              "</html>"
            ]
          },
          "metadata": {}
        }
      ]
    },
    {
      "cell_type": "code",
      "source": [
        "#################### exportar red ##############\n",
        "# guardar modelo\n",
        "fc_model.save('path_to_my_model.h5')"
      ],
      "metadata": {
        "id": "uMQ9fIscnJeX",
        "outputId": "95fbc39c-f032-41ef-e133-f60058eb4ac2",
        "colab": {
          "base_uri": "https://localhost:8080/"
        }
      },
      "execution_count": 16,
      "outputs": [
        {
          "output_type": "stream",
          "name": "stderr",
          "text": [
            "/usr/local/lib/python3.10/dist-packages/keras/src/engine/training.py:3103: UserWarning:\n",
            "\n",
            "You are saving your model as an HDF5 file via `model.save()`. This file format is considered legacy. We recommend using instead the native Keras format, e.g. `model.save('my_model.keras')`.\n",
            "\n"
          ]
        }
      ]
    },
    {
      "cell_type": "code",
      "source": [
        "#########################################################################################\n",
        "#########################################################################################\n",
        "###########Estrategias a usar: regilarization usar una a la vez para ver impacto\n",
        "#########################################################################################\n",
        "###############################################################\n",
        "\n",
        "dropout_rate = 0.3 ## porcentaje de neuronas que elimina\n",
        "\n",
        "fc_model2=tf.keras.models.Sequential([\n",
        "    tf.keras.layers.Flatten(input_shape=x_train.shape[1:]),\n",
        "    tf.keras.layers.Dense(128, activation='relu'),\n",
        "    tf.keras.layers.Dropout(dropout_rate),\n",
        "    tf.keras.layers.Dense(64, activation='relu'),\n",
        "    tf.keras.layers.Dropout(dropout_rate),\n",
        "    tf.keras.layers.Dense(1, activation='sigmoid')\n",
        "])\n",
        "##### configura el optimizador y la función para optimizar ##############\n",
        "\n",
        "\n",
        "fc_model2.compile(optimizer='adam', loss='binary_crossentropy', metrics=['AUC'])"
      ],
      "metadata": {
        "id": "cQhm42e5nXce"
      },
      "execution_count": 17,
      "outputs": []
    },
    {
      "cell_type": "code",
      "source": [
        "#####Entrenar el modelo usando el optimizador y arquitectura definidas #########\n",
        "fc_model2.fit(x_train, y_train, batch_size=100, epochs=7, validation_data=(x_test, y_test))"
      ],
      "metadata": {
        "id": "HAl0Fn2dnfRH",
        "outputId": "3fb0d1f7-2a68-48ac-8cb4-8f0313822d5a",
        "colab": {
          "base_uri": "https://localhost:8080/"
        }
      },
      "execution_count": 18,
      "outputs": [
        {
          "output_type": "stream",
          "name": "stdout",
          "text": [
            "Epoch 1/7\n",
            "34/34 [==============================] - 5s 109ms/step - loss: 1.0876 - auc: 0.7173 - val_loss: 0.2436 - val_auc: 0.9595\n",
            "Epoch 2/7\n",
            "34/34 [==============================] - 3s 81ms/step - loss: 0.2396 - auc: 0.9282 - val_loss: 0.2308 - val_auc: 0.9743\n",
            "Epoch 3/7\n",
            "34/34 [==============================] - 3s 84ms/step - loss: 0.2022 - auc: 0.9493 - val_loss: 0.2735 - val_auc: 0.9774\n",
            "Epoch 4/7\n",
            "34/34 [==============================] - 3s 101ms/step - loss: 0.1840 - auc: 0.9560 - val_loss: 0.1694 - val_auc: 0.9851\n",
            "Epoch 5/7\n",
            "34/34 [==============================] - 4s 105ms/step - loss: 0.1824 - auc: 0.9580 - val_loss: 0.2460 - val_auc: 0.9804\n",
            "Epoch 6/7\n",
            "34/34 [==============================] - 3s 79ms/step - loss: 0.1879 - auc: 0.9527 - val_loss: 0.2686 - val_auc: 0.9826\n",
            "Epoch 7/7\n",
            "34/34 [==============================] - 3s 80ms/step - loss: 0.1794 - auc: 0.9580 - val_loss: 0.1942 - val_auc: 0.9868\n"
          ]
        },
        {
          "output_type": "execute_result",
          "data": {
            "text/plain": [
              "<keras.src.callbacks.History at 0x78fbc20a7160>"
            ]
          },
          "metadata": {},
          "execution_count": 18
        }
      ]
    },
    {
      "cell_type": "markdown",
      "source": [
        "El modelo logró una pérdida de alrededor de 0.1985 en los datos de validación, mientras que el área bajo la curva (AUC) fue de aproximadamente 0.9908. Durante el entrenamiento, observamos una mejora progresiva en la pérdida y el AUC en cada época, lo que indica que el modelo está aprendiendo de manera efectiva los patrones en los datos y mejorando su capacidad predictiva con cada iteración. Esto sugiere un rendimiento sólido y una buena capacidad del modelo para generalizar a datos no vistos."
      ],
      "metadata": {
        "id": "HehtoOSEFjX8"
      }
    },
    {
      "cell_type": "code",
      "source": [
        "####################### aplicar dos regularizaciones L2 y drop out\n",
        "###Penaliza el tamaño de los pesos, mientras más grande la penalización menores son los valores de los coeficientes\n",
        "\n",
        "reg_strength = 0.001\n",
        "###########Estrategias a usar: regilarization usar una a la vez para ver impacto\n",
        "dropout_rate = 0.3 ## porcentaje de neuronas que utiliza\n",
        "\n",
        "fc_model3=tf.keras.models.Sequential([\n",
        "    tf.keras.layers.Flatten(input_shape=x_train.shape[1:]),\n",
        "    tf.keras.layers.Dense(128, activation='relu', kernel_regularizer=tf.keras.regularizers.l2(reg_strength)),\n",
        "    tf.keras.layers.Dropout(dropout_rate),\n",
        "    tf.keras.layers.Dense(64, activation='relu', kernel_regularizer=tf.keras.regularizers.l2(reg_strength)),\n",
        "    tf.keras.layers.Dropout(dropout_rate),\n",
        "    tf.keras.layers.Dense(1, activation='sigmoid')\n",
        "])\n",
        "##### configura el optimizador y la función para optimizar ##############\n",
        "fc_model3.compile(optimizer='adam', loss='binary_crossentropy', metrics=['AUC'])"
      ],
      "metadata": {
        "id": "xkSufds5nqE2"
      },
      "execution_count": 19,
      "outputs": []
    },
    {
      "cell_type": "code",
      "source": [
        "#####Entrenar el modelo usando el optimizador y arquitectura definidas #########\n",
        "fc_model3.fit(x_train, y_train, batch_size=100, epochs=10, validation_data=(x_test, y_test))"
      ],
      "metadata": {
        "id": "8vr18sANn0SO",
        "outputId": "83f67bbe-46f8-4ab9-fe9d-266458850c8c",
        "colab": {
          "base_uri": "https://localhost:8080/"
        }
      },
      "execution_count": 20,
      "outputs": [
        {
          "output_type": "stream",
          "name": "stdout",
          "text": [
            "Epoch 1/10\n",
            "34/34 [==============================] - 4s 99ms/step - loss: 1.6486 - auc: 0.6915 - val_loss: 0.5132 - val_auc: 0.9528\n",
            "Epoch 2/10\n",
            "34/34 [==============================] - 4s 111ms/step - loss: 0.6122 - auc: 0.8896 - val_loss: 0.5340 - val_auc: 0.9639\n",
            "Epoch 3/10\n",
            "34/34 [==============================] - 5s 162ms/step - loss: 0.5010 - auc: 0.9221 - val_loss: 0.4587 - val_auc: 0.9696\n",
            "Epoch 4/10\n",
            "34/34 [==============================] - 4s 120ms/step - loss: 0.4247 - auc: 0.9421 - val_loss: 0.4335 - val_auc: 0.9816\n",
            "Epoch 5/10\n",
            "34/34 [==============================] - 4s 104ms/step - loss: 0.3781 - auc: 0.9569 - val_loss: 0.3885 - val_auc: 0.9818\n",
            "Epoch 6/10\n",
            "34/34 [==============================] - 4s 107ms/step - loss: 0.3715 - auc: 0.9517 - val_loss: 0.3474 - val_auc: 0.9836\n",
            "Epoch 7/10\n",
            "34/34 [==============================] - 4s 114ms/step - loss: 0.3388 - auc: 0.9600 - val_loss: 0.2914 - val_auc: 0.9840\n",
            "Epoch 8/10\n",
            "34/34 [==============================] - 4s 107ms/step - loss: 0.3117 - auc: 0.9647 - val_loss: 0.4121 - val_auc: 0.9823\n",
            "Epoch 9/10\n",
            "34/34 [==============================] - 4s 115ms/step - loss: 0.3142 - auc: 0.9569 - val_loss: 0.3519 - val_auc: 0.9677\n",
            "Epoch 10/10\n",
            "34/34 [==============================] - 4s 130ms/step - loss: 0.3557 - auc: 0.9298 - val_loss: 0.3797 - val_auc: 0.9759\n"
          ]
        },
        {
          "output_type": "execute_result",
          "data": {
            "text/plain": [
              "<keras.src.callbacks.History at 0x78fbbe449c00>"
            ]
          },
          "metadata": {},
          "execution_count": 20
        }
      ]
    },
    {
      "cell_type": "markdown",
      "source": [
        "El modelo alcanzó una pérdida de aproximadamente 0.3065 y un área bajo la curva (AUC) de alrededor de 0.9785 en los datos de validación. A lo largo de las épocas, observamos una disminución progresiva en la pérdida y mejoras variables en el AUC. Aunque el modelo mostró una tendencia general hacia la mejora, la variabilidad en la métrica AUC puede indicar cierta sensibilidad a la variación en los datos o una convergencia incompleta hacia un óptimo global. Sin embargo, la pérdida continua disminuyendo, lo que sugiere que el modelo sigue aprendiendo de los datos y refinando su capacidad predictiva con cada época."
      ],
      "metadata": {
        "id": "ITN3dFvvFsjz"
      }
    },
    {
      "cell_type": "code",
      "source": [
        "############# Disminuir el numero de neuronas a la mitad\n",
        "\n",
        "reg_strength = 0.001\n",
        "\n",
        "###########Estrategias a usar: regilarization usar una a la vez para ver impacto\n",
        "dropout_rate = 0.3 ## porcentaje de neuronas que utiliza\n",
        "\n",
        "fc_model4=tf.keras.models.Sequential([\n",
        "    tf.keras.layers.Flatten(input_shape=x_train.shape[1:]),\n",
        "    tf.keras.layers.Dense(64, activation='relu', kernel_regularizer=tf.keras.regularizers.l2(reg_strength)),\n",
        "    tf.keras.layers.Dropout(dropout_rate),\n",
        "    tf.keras.layers.Dense(32, activation='relu', kernel_regularizer=tf.keras.regularizers.l2(reg_strength)),\n",
        "    tf.keras.layers.Dropout(dropout_rate),\n",
        "    tf.keras.layers.Dense(1, activation='sigmoid')\n",
        "])\n",
        "##### configura el optimizador y la función para optimizar ##############\n",
        "\n",
        "\n",
        "\n",
        "fc_model4.compile(optimizer='adam', loss='binary_crossentropy', metrics=['AUC'])"
      ],
      "metadata": {
        "id": "VjGHHg8eoC5W"
      },
      "execution_count": 21,
      "outputs": []
    },
    {
      "cell_type": "code",
      "source": [
        "#####Entrenar el modelo usando el optimizador y arquitectura definidas #########\n",
        "fc_model4.fit(x_train, y_train, batch_size=100, epochs=10, validation_data=(x_test, y_test))"
      ],
      "metadata": {
        "id": "ekAnVnwSoNsl",
        "outputId": "e29c8ec2-387a-4840-8306-0309a409eb8f",
        "colab": {
          "base_uri": "https://localhost:8080/"
        }
      },
      "execution_count": 22,
      "outputs": [
        {
          "output_type": "stream",
          "name": "stdout",
          "text": [
            "Epoch 1/10\n",
            "34/34 [==============================] - 3s 62ms/step - loss: 1.5682 - auc: 0.6790 - val_loss: 0.4282 - val_auc: 0.9436\n",
            "Epoch 2/10\n",
            "34/34 [==============================] - 2s 51ms/step - loss: 0.4800 - auc: 0.8763 - val_loss: 0.3686 - val_auc: 0.9596\n",
            "Epoch 3/10\n",
            "34/34 [==============================] - 2s 50ms/step - loss: 0.3982 - auc: 0.9223 - val_loss: 0.3891 - val_auc: 0.9702\n",
            "Epoch 4/10\n",
            "34/34 [==============================] - 2s 51ms/step - loss: 0.3624 - auc: 0.9320 - val_loss: 0.3320 - val_auc: 0.9762\n",
            "Epoch 5/10\n",
            "34/34 [==============================] - 2s 69ms/step - loss: 0.3403 - auc: 0.9396 - val_loss: 0.3058 - val_auc: 0.9779\n",
            "Epoch 6/10\n",
            "34/34 [==============================] - 3s 83ms/step - loss: 0.3432 - auc: 0.9356 - val_loss: 0.3019 - val_auc: 0.9828\n",
            "Epoch 7/10\n",
            "34/34 [==============================] - 2s 54ms/step - loss: 0.3372 - auc: 0.9252 - val_loss: 0.3323 - val_auc: 0.9806\n",
            "Epoch 8/10\n",
            "34/34 [==============================] - 2s 49ms/step - loss: 0.3214 - auc: 0.9314 - val_loss: 0.2407 - val_auc: 0.9825\n",
            "Epoch 9/10\n",
            "34/34 [==============================] - 2s 54ms/step - loss: 0.3177 - auc: 0.9273 - val_loss: 0.2585 - val_auc: 0.9779\n",
            "Epoch 10/10\n",
            "34/34 [==============================] - 2s 49ms/step - loss: 0.2841 - auc: 0.9424 - val_loss: 0.2783 - val_auc: 0.9825\n"
          ]
        },
        {
          "output_type": "execute_result",
          "data": {
            "text/plain": [
              "<keras.src.callbacks.History at 0x78fbbfba2350>"
            ]
          },
          "metadata": {},
          "execution_count": 22
        }
      ]
    },
    {
      "cell_type": "markdown",
      "source": [
        "\n",
        "El modelo muestra una mejora progresiva en el rendimiento a lo largo del entrenamiento. La pérdida disminuye de forma constante, indicando una mejor adaptación a los datos de entrenamiento. Además, el AUC aumenta significativamente desde aproximadamente 0.6398 hasta 0.9378, lo que sugiere una mejor capacidad de discriminación entre las clases. El modelo parece que generaliza bien a datos que no ha visto y no parece tener sobreajuste."
      ],
      "metadata": {
        "id": "U1uGjiPxHGbL"
      }
    },
    {
      "cell_type": "code",
      "source": [
        "reg_strength = 0.001\n",
        "\n",
        "###########Estrategias a usar: regilarization usar una a la vez para ver impacto\n",
        "dropout_rate = 0.2 ## porcentaje de neuronas que utiliza\n",
        "\n",
        "fc_model5=tf.keras.models.Sequential([\n",
        "    tf.keras.layers.Flatten(input_shape=x_train.shape[1:]),\n",
        "    tf.keras.layers.Dense(64, activation='relu', kernel_regularizer=tf.keras.regularizers.l2(reg_strength)),\n",
        "    tf.keras.layers.Dropout(dropout_rate),\n",
        "    tf.keras.layers.Dense(64, activation='relu', kernel_regularizer=tf.keras.regularizers.l2(reg_strength)),\n",
        "    tf.keras.layers.Dropout(dropout_rate),\n",
        "    tf.keras.layers.Dense(32, activation='relu', kernel_regularizer=tf.keras.regularizers.l2(reg_strength)),\n",
        "    tf.keras.layers.Dropout(dropout_rate),\n",
        "    tf.keras.layers.Dense(1, activation='sigmoid')\n",
        "])\n",
        "##### configura el optimizador y la función para optimizar ##############\n",
        "\n",
        "\n",
        "\n",
        "fc_model5.compile(optimizer='adam', loss='binary_crossentropy', metrics=['AUC'])"
      ],
      "metadata": {
        "id": "tlgWHuxXofh8"
      },
      "execution_count": 23,
      "outputs": []
    },
    {
      "cell_type": "code",
      "source": [
        "#####Entrenar el modelo usando el optimizador y arquitectura definidas #########\n",
        "fc_model5.fit(x_train, y_train, batch_size=100, epochs=10, validation_data=(x_test, y_test))"
      ],
      "metadata": {
        "id": "OPcLo0_QojXU",
        "outputId": "190f0b84-c386-4403-d909-cab73e99eebf",
        "colab": {
          "base_uri": "https://localhost:8080/"
        }
      },
      "execution_count": 24,
      "outputs": [
        {
          "output_type": "stream",
          "name": "stdout",
          "text": [
            "Epoch 1/10\n",
            "34/34 [==============================] - 4s 96ms/step - loss: 0.9821 - auc: 0.6660 - val_loss: 0.4849 - val_auc: 0.9433\n",
            "Epoch 2/10\n",
            "34/34 [==============================] - 2s 65ms/step - loss: 0.4918 - auc: 0.9001 - val_loss: 0.4087 - val_auc: 0.9711\n",
            "Epoch 3/10\n",
            "34/34 [==============================] - 2s 48ms/step - loss: 0.4267 - auc: 0.9297 - val_loss: 0.3553 - val_auc: 0.9739\n",
            "Epoch 4/10\n",
            "34/34 [==============================] - 2s 53ms/step - loss: 0.3874 - auc: 0.9394 - val_loss: 0.3685 - val_auc: 0.9797\n",
            "Epoch 5/10\n",
            "34/34 [==============================] - 3s 79ms/step - loss: 0.4140 - auc: 0.8905 - val_loss: 0.3164 - val_auc: 0.9853\n",
            "Epoch 6/10\n",
            "34/34 [==============================] - 2s 66ms/step - loss: 0.3459 - auc: 0.9491 - val_loss: 0.3273 - val_auc: 0.9822\n",
            "Epoch 7/10\n",
            "34/34 [==============================] - 2s 65ms/step - loss: 0.3196 - auc: 0.9575 - val_loss: 0.3372 - val_auc: 0.9817\n",
            "Epoch 8/10\n",
            "34/34 [==============================] - 3s 79ms/step - loss: 0.3257 - auc: 0.9424 - val_loss: 0.2801 - val_auc: 0.9810\n",
            "Epoch 9/10\n",
            "34/34 [==============================] - 2s 54ms/step - loss: 0.3112 - auc: 0.9496 - val_loss: 0.2955 - val_auc: 0.9860\n",
            "Epoch 10/10\n",
            "34/34 [==============================] - 2s 48ms/step - loss: 0.2933 - auc: 0.9576 - val_loss: 0.4224 - val_auc: 0.9835\n"
          ]
        },
        {
          "output_type": "execute_result",
          "data": {
            "text/plain": [
              "<keras.src.callbacks.History at 0x78fbbf7cdf00>"
            ]
          },
          "metadata": {},
          "execution_count": 24
        }
      ]
    },
    {
      "cell_type": "markdown",
      "source": [
        "\n",
        "El modelo muestra una mejora progresiva en el rendimiento durante el entrenamiento. Inicialmente, el valor de pérdida es alto aproximadamente de 0.9424, pero disminuye gradualmente, lo que indisca un mejor rendimiento del modelo. Por otro lado, el AUC comienza en 0.6236 y mejora llegando a 0.9400 en el último epoch. En cuanto a las métricas de validación, la pérdida de validación sigue una tendencia decreciente, mientras que el AUC de validación se mantiene alto, cerca de 0.98, lo que indica que el modelo generaliza bien a datos no vistos. Estos resultados indican que el modelo está aprendiendo bien los datos, aunque podría tener ajustes adicionales para mejorar su rendimiento final."
      ],
      "metadata": {
        "id": "M1xB5teaIYvu"
      }
    },
    {
      "cell_type": "code",
      "source": [
        "reg_strength = 0.001\n",
        "\n",
        "###########Estrategias a usar: regilarization usar una a la vez para ver impacto\n",
        "dropout_rate = 0.35 ## porcentaje de neuronas que utiliza\n",
        "\n",
        "fc_model=tf.keras.models.Sequential([\n",
        "    tf.keras.layers.Flatten(input_shape=x_train.shape[1:]),\n",
        "    tf.keras.layers.Dense(128, activation='relu', kernel_regularizer=tf.keras.regularizers.l2(reg_strength)),\n",
        "    tf.keras.layers.Dropout(dropout_rate),\n",
        "    tf.keras.layers.Dense(64, activation='relu', kernel_regularizer=tf.keras.regularizers.l2(reg_strength)),\n",
        "    tf.keras.layers.Dropout(dropout_rate),\n",
        "    tf.keras.layers.Dense(1, activation='sigmoid')\n",
        "])\n",
        "##### configura el optimizador y la función para optimizar ##############\n",
        "\n",
        "\n",
        "\n",
        "fc_model.compile(optimizer='adam', loss='binary_crossentropy', metrics=['AUC'])\n"
      ],
      "metadata": {
        "id": "5zyrD-NdosXu"
      },
      "execution_count": 25,
      "outputs": []
    },
    {
      "cell_type": "code",
      "source": [
        "#####Entrenar el modelo usando el optimizador y arquitectura definidas #########\n",
        "fc_model.fit(x_train, y_train, batch_size=100, epochs=10, validation_data=(x_test, y_test))"
      ],
      "metadata": {
        "id": "2QFdsuhPovqT",
        "outputId": "2edeae60-2bd9-4d6e-da0d-8eac1d206716",
        "colab": {
          "base_uri": "https://localhost:8080/"
        }
      },
      "execution_count": 26,
      "outputs": [
        {
          "output_type": "stream",
          "name": "stdout",
          "text": [
            "Epoch 1/10\n",
            "34/34 [==============================] - 6s 117ms/step - loss: 1.8587 - auc: 0.6960 - val_loss: 0.6211 - val_auc: 0.9558\n",
            "Epoch 2/10\n",
            "34/34 [==============================] - 3s 91ms/step - loss: 0.6094 - auc: 0.8912 - val_loss: 0.4985 - val_auc: 0.9650\n",
            "Epoch 3/10\n",
            "34/34 [==============================] - 3s 87ms/step - loss: 0.5256 - auc: 0.9244 - val_loss: 0.4639 - val_auc: 0.9781\n",
            "Epoch 4/10\n",
            "34/34 [==============================] - 4s 110ms/step - loss: 0.4593 - auc: 0.9416 - val_loss: 0.5636 - val_auc: 0.9705\n",
            "Epoch 5/10\n",
            "34/34 [==============================] - 4s 113ms/step - loss: 0.4427 - auc: 0.9273 - val_loss: 0.4011 - val_auc: 0.9739\n",
            "Epoch 6/10\n",
            "34/34 [==============================] - 3s 88ms/step - loss: 0.4078 - auc: 0.9358 - val_loss: 0.3803 - val_auc: 0.9746\n",
            "Epoch 7/10\n",
            "34/34 [==============================] - 3s 88ms/step - loss: 0.4061 - auc: 0.9271 - val_loss: 0.4077 - val_auc: 0.9498\n",
            "Epoch 8/10\n",
            "34/34 [==============================] - 3s 98ms/step - loss: 0.3643 - auc: 0.9429 - val_loss: 0.3715 - val_auc: 0.9768\n",
            "Epoch 9/10\n",
            "34/34 [==============================] - 4s 122ms/step - loss: 0.3427 - auc: 0.9396 - val_loss: 0.3882 - val_auc: 0.9783\n",
            "Epoch 10/10\n",
            "34/34 [==============================] - 3s 85ms/step - loss: 0.3132 - auc: 0.9505 - val_loss: 0.2895 - val_auc: 0.9843\n"
          ]
        },
        {
          "output_type": "execute_result",
          "data": {
            "text/plain": [
              "<keras.src.callbacks.History at 0x78fbbf61a200>"
            ]
          },
          "metadata": {},
          "execution_count": 26
        }
      ]
    },
    {
      "cell_type": "markdown",
      "source": [
        "Al inicio el valor de pérdida es bastante alto aproximadamente 2.31, lo que indica que el modelo necesita ajustes significativos. Sin embargo, la pérdida disminuye en los epochs posteriores, llegando a un valor de 0.3802. Esto indica que el modelo está mejorando su capacidad para hacer predicciones sobre los datos de entrenamiento. El AUC, comienza en 0.6439 y mejora llegando a 0.9304 en el último epoch. Esta mejora indica que el modelo está mejorando su capacidad de hacer predicciones.\n"
      ],
      "metadata": {
        "id": "ISySzG3vJa-B"
      }
    }
  ]
}