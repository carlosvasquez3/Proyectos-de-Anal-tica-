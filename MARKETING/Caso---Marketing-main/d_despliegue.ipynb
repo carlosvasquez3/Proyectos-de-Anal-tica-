{
  "nbformat": 4,
  "nbformat_minor": 0,
  "metadata": {
    "colab": {
      "provenance": [],
      "include_colab_link": true
    },
    "kernelspec": {
      "name": "python3",
      "display_name": "Python 3"
    },
    "language_info": {
      "name": "python"
    }
  },
  "cells": [
    {
      "cell_type": "markdown",
      "metadata": {
        "id": "view-in-github",
        "colab_type": "text"
      },
      "source": [
        "<a href=\"https://colab.research.google.com/github/LorenaGiVa/Caso---Marketing/blob/main/d_despliegue.ipynb\" target=\"_parent\"><img src=\"https://colab.research.google.com/assets/colab-badge.svg\" alt=\"Open In Colab\"/></a>"
      ]
    },
    {
      "cell_type": "code",
      "source": [
        "## Conectar el drive\n",
        "from google.colab import drive\n",
        "drive.mount('/content/drive')"
      ],
      "metadata": {
        "id": "AvwBHLeTKlM8",
        "outputId": "d382a4dd-a011-4cff-87b4-413cd8f3301e",
        "colab": {
          "base_uri": "https://localhost:8080/"
        }
      },
      "execution_count": 1,
      "outputs": [
        {
          "output_type": "stream",
          "name": "stdout",
          "text": [
            "Mounted at /content/drive\n"
          ]
        }
      ]
    },
    {
      "cell_type": "code",
      "execution_count": 2,
      "metadata": {
        "id": "W2us3I_FaRPG"
      },
      "outputs": [],
      "source": [
        "import numpy as np\n",
        "import pandas as pd\n",
        "import sqlite3 as sql\n",
        "import openpyxl\n",
        "import sys ## saber ruta de la que carga paquetes\n",
        "sys.path ###Ruta directorio qué tiene paquetes\n",
        "sys.path.append('/content/drive/MyDrive/Caso marketing analítica') ## este comanda agrega una ruta\n",
        "import a_funciones as fn ## para procesamiento"
      ]
    },
    {
      "cell_type": "code",
      "source": [
        "####Paquete para sistema basado en contenido ####\n",
        "from sklearn.preprocessing import MinMaxScaler\n",
        "from sklearn import neighbors"
      ],
      "metadata": {
        "id": "EqHrUhngNe46"
      },
      "execution_count": 3,
      "outputs": []
    },
    {
      "cell_type": "code",
      "source": [
        "def preprocesar():\n",
        "\n",
        "    #### conectar_base_de_Datos#################\n",
        "    conn=sql.connect('/content/drive/MyDrive/Caso marketing analítica/data/db_movies2.db')\n",
        "    cur=conn.cursor()\n",
        "\n",
        "    ##### llevar datos que cambian constantemente a python ######\n",
        "    movies=pd.read_sql('select * from movies', conn )\n",
        "    ratings=pd.read_sql('select * from ratings', conn)\n",
        "    usuarios=pd.read_sql('select distinct (userId) as user_id from ratings',conn)\n",
        "    #### transformación de datos crudos - Preprocesamiento ################\n",
        "    # Reemplazar los valores faltantes por 0 en la columna 'year'\n",
        "    movies['year'] = movies['year'].fillna(0)\n",
        "    # Convertir la columna 'year' a tipo entero\n",
        "    movies['year'] = movies['year'].astype('int')\n",
        "    movies['year']=movies.year.astype('int')\n",
        "    ##### escalar para que año esté en el mismo rango ###\n",
        "    sc=MinMaxScaler()\n",
        "    movies[[\"year_sc\"]]=sc.fit_transform(movies[['year']])\n",
        "    movies_dum1=movies.drop(columns=['movieId', 'title', 'genres'])\n",
        "    movies_dum2 = movies.copy()\n",
        "    # Convertir la variable de género en una lista de géneros para cada película\n",
        "    movies_dum2['genres_list'] =movies_dum2['genres'].str.split('|')\n",
        "    # Obtener todas las categorías únicas de géneros\n",
        "    unique_genres = set()\n",
        "    for genres_list in movies_dum2['genres_list']:\n",
        "        unique_genres.update(genres_list)\n",
        "    # Convertir la lista de géneros en variables dummy y agregarlas al DataFrame original\n",
        "    for genre in unique_genres:\n",
        "        movies_dum2[genre] = movies_dum2['genres_list'].apply(lambda x: 1 if genre in x else 0)\n",
        "    # Eliminar la columna temporal 'genres_list'\n",
        "    movies_dum2.drop(columns=['genres_list', 'movieId', 'title', 'genres', 'clean_title', 'year'], inplace=True)\n",
        "\n",
        "    return movies_dum2,movies, conn, cur"
      ],
      "metadata": {
        "id": "38erhLDLyNKO"
      },
      "execution_count": 131,
      "outputs": []
    },
    {
      "cell_type": "code",
      "source": [
        "##########################################################################\n",
        "###############Función para entrenar modelo por cada usuario ##########\n",
        "###############Basado en contenido todo lo visto por el usuario Knn#############################\n",
        "def recomendar(user_id):\n",
        "\n",
        "    movies_dum2, movies, conn, cur = preprocesar()\n",
        "    ratings=pd.read_sql('select * from ratings where userId=:user',conn, params={'user':user_id})\n",
        "    l_movies_r=ratings['movieId'].to_numpy()\n",
        "    movies_dum2[['movie_id','movie_title']]=movies[['movie_id','movie_title']]\n",
        "    movies_r=movies_dum2[movies_dum2['movie_id'].isin(l_movies_r)]\n",
        "    movies_r=movies_r.drop(columns=['movie_id','movie_title'])\n",
        "    movies_r[\"indice\"]=1 ### para usar group by y que quede en formato pandas tabla de centroide\n",
        "    centroide=movies_r.groupby(\"indice\").mean()\n",
        "\n",
        "    movies_nr=movies_dum2[~movies_dum2['movie_id'].isin(l_movies_r)]\n",
        "    movies_nr=movies_nr.drop(columns=['movie_id','movie_title'])\n",
        "    model=neighbors.NearestNeighbors(n_neighbors=11, metric='cosine')\n",
        "    model.fit(movies_nr)\n",
        "    dist, idlist = model.kneighbors(centroide)\n",
        "\n",
        "    ids=idlist[0]\n",
        "    recomend_b=movies.loc[ids][['book_title','isbn']]\n",
        "\n",
        "\n",
        "    return recomend_b"
      ],
      "metadata": {
        "id": "leZY85ny3z9l"
      },
      "execution_count": 137,
      "outputs": []
    },
    {
      "cell_type": "code",
      "source": [
        "def recomendar(user_id):\n",
        "    movies_dum2, movies, conn, cur = preprocesar()\n",
        "\n",
        "    # Seleccionar solo los ratings del usuario seleccionado\n",
        "    ratings = pd.read_sql('select * from ratings where userId=:user', conn, params={'user': user_id})\n",
        "    l_movies_r = ratings['movieId'].to_numpy()\n",
        "\n",
        "    # Agregar la columna de movieID de la película a dummies para filtrar y mostrar nombre\n",
        "    movies_dum2[['movieId', 'movie_clean_title']] = movies[['movieId', 'movie_clean_title']]\n",
        "\n",
        "    # Filtrar películas calificadas por el usuario\n",
        "    movies_r = movies_dum2[movies_dum2['movieId'].isin(l_movies_r)]\n",
        "    movies_r = movies_r.drop(columns=['movieId', 'movie_clean_title'])\n",
        "    movies_r['indice'] = 1  # Para usar group by y que quede en formato pandas tabla de centroide\n",
        "    centroide = movies_r.groupby('indice').mean()\n",
        "\n",
        "    # Filtrar películas no vistas\n",
        "    movies_nr = movies_dum2[~movies_dum2['movieId'].isin(l_movies_r)]\n",
        "    movies_nr = movies_nr.drop(columns=['movieId', 'movie_clean_title'])\n",
        "\n",
        "    # Entrenar modelo\n",
        "    model = neighbors.NearestNeighbors(n_neighbors=11, metric='cosine')\n",
        "    model.fit(movies_nr)\n",
        "    dist, idlist = model.kneighbors(centroide)\n",
        "\n",
        "    ids = idlist[0]\n",
        "    recomend_b = movies.loc[ids][['movie_clean_title', 'movieId']]\n",
        "\n",
        "    return recomend_b\n"
      ],
      "metadata": {
        "id": "CjumpQU7B0O2"
      },
      "execution_count": 144,
      "outputs": []
    },
    {
      "cell_type": "code",
      "source": [
        "##### Generar recomendaciones para usuario lista de usuarios ####\n",
        "##### No se hace para todos porque es muy pesado #############\n",
        "def main(list_user):\n",
        "\n",
        "    recomendaciones_todos = pd.DataFrame()\n",
        "    for user_id in list_user:\n",
        "\n",
        "        recomendaciones = recomendar(user_id)\n",
        "        recomendaciones[\"user_id\"]=user_id\n",
        "        recomendaciones.reset_index(inplace=True,drop=True)\n",
        "\n",
        "        recomendaciones_todos=pd.concat([recomendaciones_todos, recomendaciones])\n",
        "\n",
        "    recomendaciones_todos.to_excel('/content/drive/MyDrive/Caso marketing analítica/data/salidas/recomendaciones.xlsx')\n",
        "    recomendaciones_todos.to_csv('/content/drive/MyDrive/Caso marketing analítica/data/salidas/recomendaciones.csv')\n",
        "\n",
        "if __name__==\"__main__\":\n",
        "    list_user=[1,37,100,609]\n",
        "    main(list_user)\n",
        "\n",
        "\n",
        "import sys\n",
        "sys.executable"
      ],
      "metadata": {
        "id": "_p_8-MHr6YVB"
      },
      "execution_count": null,
      "outputs": []
    }
  ]
}