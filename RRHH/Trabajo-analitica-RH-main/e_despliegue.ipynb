{
  "nbformat": 4,
  "nbformat_minor": 0,
  "metadata": {
    "colab": {
      "provenance": [],
      "include_colab_link": true
    },
    "kernelspec": {
      "name": "python3",
      "display_name": "Python 3"
    },
    "language_info": {
      "name": "python"
    }
  },
  "cells": [
    {
      "cell_type": "markdown",
      "metadata": {
        "id": "view-in-github",
        "colab_type": "text"
      },
      "source": [
        "<a href=\"https://colab.research.google.com/github/Laurahg22/Trabajo-analitica-RH/blob/main/e_despliegue.ipynb\" target=\"_parent\"><img src=\"https://colab.research.google.com/assets/colab-badge.svg\" alt=\"Open In Colab\"/></a>"
      ]
    },
    {
      "cell_type": "code",
      "source": [
        "## Conectar el drive\n",
        "from google.colab import drive\n",
        "drive.mount('/content/drive')"
      ],
      "metadata": {
        "colab": {
          "base_uri": "https://localhost:8080/"
        },
        "id": "mIOzKf7yqNOC",
        "outputId": "43045ce6-120d-4120-dd06-905c925fa2b2"
      },
      "execution_count": 1,
      "outputs": [
        {
          "output_type": "stream",
          "name": "stdout",
          "text": [
            "Mounted at /content/drive\n"
          ]
        }
      ]
    },
    {
      "cell_type": "code",
      "source": [
        "import pandas as pd ### para manejo de datos\n",
        "import sqlite3 as sql\n",
        "import joblib\n",
        "import openpyxl ## para exportar a excel\n",
        "import numpy as np\n",
        "import sys #para ver la ruta\n",
        "from sklearn.preprocessing import LabelEncoder\n",
        "\n",
        "sys.path ###Ruta directorio qué tiene paquetes\n",
        "sys.path.append('/content/drive/MyDrive/trabajo/Trabajo-analitica-RH') ## este comanda agrega una ruta\n",
        "\n",
        "import a_funciones as funciones  ###archivo de funciones propias"
      ],
      "metadata": {
        "id": "N1A-uxDsrMFM"
      },
      "execution_count": 5,
      "outputs": []
    },
    {
      "cell_type": "code",
      "source": [
        "### funcion para cargar objeto guardado ###\n",
        "df_2016_d =joblib.load(\"/content/drive/MyDrive/trabajo/Trabajo-analitica-RH/salidas/df_dummies_2016.pkl\")"
      ],
      "metadata": {
        "id": "PgklNC8IoEja"
      },
      "execution_count": 3,
      "outputs": []
    },
    {
      "cell_type": "markdown",
      "source": [
        "#Automatizar"
      ],
      "metadata": {
        "id": "wTEmbC-FsaLk"
      }
    },
    {
      "cell_type": "code",
      "source": [
        "if __name__==\"__main__\":\n",
        "    ## Cargar base de datos\n",
        "    df_2016_d\n",
        "    #### Otras transformaciones en python (imputación, dummies y selección de variables)\n",
        "    df_t = funciones.preparar_datos(df_2016_d)\n",
        "\n",
        "    ## Cargar modelo y predecir\n",
        "    dt_final = joblib.load(\"/content/drive/MyDrive/trabajo/Trabajo-analitica-RH/salidas/dt_final.pkl\")\n",
        "    predicciones = dt_final.predict(df_t)\n",
        "    pd_pred = pd.DataFrame(predicciones, columns=['Retiros'])\n",
        "\n",
        "    ### Crear base con predicciones ###\n",
        "    perf_pred = pd.concat([df_2016_d['EmployeeID'], df_t, pd_pred], axis=1)\n",
        "\n",
        "    ####LLevar a BD para despliegue\n",
        "    perf_pred[['EmployeeID', 'Retiros']].to_csv(\"/content/drive/MyDrive/trabajo/Trabajo-analitica-RH/salidas/perf_pred.csv\", index=False)\n",
        "\n",
        "    #### Calcular la tasa de retiros ###\n",
        "    total_empleados = len(perf_pred)\n",
        "    retirados = perf_pred['Retiros'].sum()\n",
        "    tasa_retiros = (retirados / total_empleados) * 100\n",
        "\n",
        "    #### Crear DataFrame con la tasa de retiros y agregarlo a la información de empleados que se van a retirar ###\n",
        "    tasa_retiros = pd.DataFrame({\"Tasa de Retiros\": [tasa_retiros]})\n",
        "    emp_que_renuncian = perf_pred.loc[perf_pred[\"Retiros\"] == 1]\n",
        "    emp_que_renuncian_with_tasa = pd.concat([emp_que_renuncian, tasa_retiros], axis=1)\n",
        "    coeficientes = pd.DataFrame(np.append([np.nan], [np.nan]), columns=['coeficientes'])  ### agregar coeficientes\n",
        "\n",
        "    #### Exportar la información de empleados que se van a retirar, incluyendo la tasa de retiros, a un archivo Excel ###\n",
        "    emp_que_renuncian_with_tasa.to_excel(\"/content/drive/MyDrive/trabajo/Trabajo-analitica-RH/salidas/empleados_que_se_retiran.xlsx\", index=False)\n",
        "    coeficientes.to_excel(\"/content/drive/MyDrive/trabajo/Trabajo-analitica-RH/salidas/coeficientes.xlsx\") ### exportar coeficientes para analizar predicciones"
      ],
      "metadata": {
        "id": "U-xmzz8O88Fg"
      },
      "execution_count": 4,
      "outputs": []
    }
  ]
}