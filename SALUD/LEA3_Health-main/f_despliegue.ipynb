{
  "nbformat": 4,
  "nbformat_minor": 0,
  "metadata": {
    "colab": {
      "provenance": [],
      "authorship_tag": "ABX9TyPHXrWJCqTa2H5jY54/gfJr",
      "include_colab_link": true
    },
    "kernelspec": {
      "name": "python3",
      "display_name": "Python 3"
    },
    "language_info": {
      "name": "python"
    }
  },
  "cells": [
    {
      "cell_type": "markdown",
      "metadata": {
        "id": "view-in-github",
        "colab_type": "text"
      },
      "source": [
        "<a href=\"https://colab.research.google.com/github/AleAguirreM/LEA3_Health/blob/main/f_despliegue.ipynb\" target=\"_parent\"><img src=\"https://colab.research.google.com/assets/colab-badge.svg\" alt=\"Open In Colab\"/></a>"
      ]
    },
    {
      "cell_type": "code",
      "source": [
        "from google.colab import drive\n",
        "drive.mount('/content/drive')"
      ],
      "metadata": {
        "colab": {
          "base_uri": "https://localhost:8080/"
        },
        "id": "FMHyBKvZWubj",
        "outputId": "1d914ea8-6dd6-401d-b37a-01f49aa31036"
      },
      "execution_count": 1,
      "outputs": [
        {
          "output_type": "stream",
          "name": "stdout",
          "text": [
            "Mounted at /content/drive\n"
          ]
        }
      ]
    },
    {
      "cell_type": "code",
      "execution_count": 4,
      "metadata": {
        "colab": {
          "base_uri": "https://localhost:8080/"
        },
        "id": "VbF8DNK-Tu_q",
        "outputId": "da106874-fde7-4065-a110-2f3b10262f6a"
      },
      "outputs": [
        {
          "output_type": "execute_result",
          "data": {
            "text/plain": [
              "['/content',\n",
              " '/env/python',\n",
              " '/usr/lib/python310.zip',\n",
              " '/usr/lib/python3.10',\n",
              " '/usr/lib/python3.10/lib-dynload',\n",
              " '',\n",
              " '/usr/local/lib/python3.10/dist-packages',\n",
              " '/usr/lib/python3/dist-packages',\n",
              " '/usr/local/lib/python3.10/dist-packages/IPython/extensions',\n",
              " '/root/.ipython']"
            ]
          },
          "metadata": {},
          "execution_count": 4
        }
      ],
      "source": [
        "import joblib\n",
        "import numpy as np\n",
        "import pandas as pd\n",
        "import cv2 ### para leer imagenes jpeg\n",
        "### pip install opencv-python\n",
        "import _funciones as fn#### funciones personalizadas, carga de imágenes\n",
        "import tensorflow as tf\n",
        "import openpyxl\n",
        "\n",
        "import sys\n",
        "sys.executable\n",
        "sys.path"
      ]
    },
    {
      "cell_type": "code",
      "source": [
        "if __name__==\"__main__\":\n",
        "\n",
        "    #### cargar datos ####\n",
        "    path = '/content/drive/MyDrive/TB_Chest_Radiography_Database/despliegue/'\n",
        "    x, _, files= fn.img2data(path) #cargar datos de despliegue\n",
        "\n",
        "    x=np.array(x) ##imagenes a predecir\n",
        "\n",
        "    x=x.astype('float')######convertir para escalar\n",
        "    x/=255######escalar datos\n",
        "    files2= [name.rsplit('.', 1)[0] for name in files] ### eliminar extension a nombre de archivo\n",
        "\n",
        "    modelo=joblib.load('/content/drive/MyDrive/TB_Chest_Radiography_Database/salidas/cnn_model.pkl') ### cargar modelo\n",
        "    prob=modelo.predict(x)\n",
        "\n",
        "\n",
        "    clas=['TB' if prob >0.6 else 'No TB' if prob <0.3 else \"No ident\" for prob in prob]\n",
        "\n",
        "    res_dict={\n",
        "        \"paciente\": files2,\n",
        "        \"clas\": clas\n",
        "    }\n",
        "    resultados=pd.DataFrame(res_dict)\n",
        "\n",
        "    resultados.to_excel('/content/drive/MyDrive/TB_Chest_Radiography_Database/salidas/clasificados.xlsx', index=False)"
      ],
      "metadata": {
        "colab": {
          "base_uri": "https://localhost:8080/"
        },
        "id": "U7fzZit6ULd2",
        "outputId": "9c4169c9-042a-42bf-b020-fac52cdfb2a7"
      },
      "execution_count": 7,
      "outputs": [
        {
          "output_type": "stream",
          "name": "stderr",
          "text": [
            "100%|██████████| 180/180 [00:02<00:00, 67.94it/s]\n"
          ]
        },
        {
          "output_type": "stream",
          "name": "stdout",
          "text": [
            "6/6 [==============================] - 1s 161ms/step\n"
          ]
        }
      ]
    }
  ]
}