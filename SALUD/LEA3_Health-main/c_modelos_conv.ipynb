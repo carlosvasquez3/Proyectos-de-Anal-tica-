{
  "nbformat": 4,
  "nbformat_minor": 0,
  "metadata": {
    "colab": {
      "provenance": [],
      "include_colab_link": true
    },
    "kernelspec": {
      "name": "python3",
      "display_name": "Python 3"
    },
    "language_info": {
      "name": "python"
    }
  },
  "cells": [
    {
      "cell_type": "markdown",
      "metadata": {
        "id": "view-in-github",
        "colab_type": "text"
      },
      "source": [
        "<a href=\"https://colab.research.google.com/github/AleAguirreM/LEA3_Health/blob/main/c_modelos_conv.ipynb\" target=\"_parent\"><img src=\"https://colab.research.google.com/assets/colab-badge.svg\" alt=\"Open In Colab\"/></a>"
      ]
    },
    {
      "cell_type": "code",
      "source": [
        "from google.colab import drive\n",
        "drive.mount('/content/drive')"
      ],
      "metadata": {
        "colab": {
          "base_uri": "https://localhost:8080/"
        },
        "id": "PGNUAM4WruwW",
        "outputId": "b34f8026-83a0-49fc-c409-472cd139f3bc"
      },
      "execution_count": 1,
      "outputs": [
        {
          "output_type": "stream",
          "name": "stdout",
          "text": [
            "Mounted at /content/drive\n"
          ]
        }
      ]
    },
    {
      "cell_type": "code",
      "source": [
        "import numpy as np\n",
        "import joblib ### para cargar array\n",
        "\n",
        "########Paquetes para NN #########\n",
        "import tensorflow as tf\n",
        "from sklearn import metrics ### para analizar modelo\n",
        "from sklearn.ensemble import RandomForestClassifier  ### para analizar modelo\n",
        "import pandas as pd\n",
        "\n",
        "from sklearn.ensemble import RandomForestClassifier\n",
        "from sklearn import tree\n",
        "import keras"
      ],
      "metadata": {
        "id": "R36pr4Ei53eq"
      },
      "execution_count": 2,
      "outputs": []
    },
    {
      "cell_type": "code",
      "source": [
        "!pip install keras-tuner"
      ],
      "metadata": {
        "colab": {
          "base_uri": "https://localhost:8080/"
        },
        "id": "1CTrFo5Ts003",
        "outputId": "d24bdae3-d73e-493f-cde1-63e945ee5a95"
      },
      "execution_count": 3,
      "outputs": [
        {
          "output_type": "stream",
          "name": "stdout",
          "text": [
            "Collecting keras-tuner\n",
            "  Downloading keras_tuner-1.4.7-py3-none-any.whl (129 kB)\n",
            "\u001b[2K     \u001b[90m━━━━━━━━━━━━━━━━━━━━━━━━━━━━━━━━━━━━━━━━\u001b[0m \u001b[32m129.1/129.1 kB\u001b[0m \u001b[31m2.7 MB/s\u001b[0m eta \u001b[36m0:00:00\u001b[0m\n",
            "\u001b[?25hRequirement already satisfied: keras in /usr/local/lib/python3.10/dist-packages (from keras-tuner) (2.15.0)\n",
            "Requirement already satisfied: packaging in /usr/local/lib/python3.10/dist-packages (from keras-tuner) (24.0)\n",
            "Requirement already satisfied: requests in /usr/local/lib/python3.10/dist-packages (from keras-tuner) (2.31.0)\n",
            "Collecting kt-legacy (from keras-tuner)\n",
            "  Downloading kt_legacy-1.0.5-py3-none-any.whl (9.6 kB)\n",
            "Requirement already satisfied: charset-normalizer<4,>=2 in /usr/local/lib/python3.10/dist-packages (from requests->keras-tuner) (3.3.2)\n",
            "Requirement already satisfied: idna<4,>=2.5 in /usr/local/lib/python3.10/dist-packages (from requests->keras-tuner) (3.7)\n",
            "Requirement already satisfied: urllib3<3,>=1.21.1 in /usr/local/lib/python3.10/dist-packages (from requests->keras-tuner) (2.0.7)\n",
            "Requirement already satisfied: certifi>=2017.4.17 in /usr/local/lib/python3.10/dist-packages (from requests->keras-tuner) (2024.2.2)\n",
            "Installing collected packages: kt-legacy, keras-tuner\n",
            "Successfully installed keras-tuner-1.4.7 kt-legacy-1.0.5\n"
          ]
        }
      ]
    },
    {
      "cell_type": "code",
      "execution_count": 4,
      "metadata": {
        "id": "gAdd_D5e5x9r"
      },
      "outputs": [],
      "source": [
        "### cargar bases_procesadas ####\n",
        "\n",
        "x_train = joblib.load('/content/drive/MyDrive/TB_Chest_Radiography_Database/salidas/x_train.pkl')\n",
        "y_train = joblib.load('/content/drive/MyDrive/TB_Chest_Radiography_Database/salidas/y_train.pkl')\n",
        "x_test = joblib.load('/content/drive/MyDrive/TB_Chest_Radiography_Database/salidas/x_test.pkl')\n",
        "y_test = joblib.load('/content/drive/MyDrive/TB_Chest_Radiography_Database/salidas/y_test.pkl')\n"
      ]
    },
    {
      "cell_type": "code",
      "source": [
        "#### Escalar ######################\n",
        "x_train=x_train.astype('float32') ## para poder escalarlo\n",
        "x_test=x_test.astype('float32') ## para poder escalarlo\n",
        "x_train /=255 ### escalaro para que quede entre 0 y 1\n",
        "x_test /=255"
      ],
      "metadata": {
        "id": "kdjgOX2Mr7fF"
      },
      "execution_count": 5,
      "outputs": []
    },
    {
      "cell_type": "code",
      "source": [
        "###### verificar tamaños\n",
        "\n",
        "print(x_train.shape)\n",
        "x_test.shape\n"
      ],
      "metadata": {
        "colab": {
          "base_uri": "https://localhost:8080/"
        },
        "id": "5oyGa6O1sFCc",
        "outputId": "782eb1dc-1feb-4647-c10e-7c714f373d87"
      },
      "execution_count": 6,
      "outputs": [
        {
          "output_type": "stream",
          "name": "stdout",
          "text": [
            "(3360, 100, 100, 3)\n"
          ]
        },
        {
          "output_type": "execute_result",
          "data": {
            "text/plain": [
              "(840, 100, 100, 3)"
            ]
          },
          "metadata": {},
          "execution_count": 6
        }
      ]
    },
    {
      "cell_type": "code",
      "source": [
        "np.product(x_train[1].shape) ## cantidad de variables por imagen"
      ],
      "metadata": {
        "colab": {
          "base_uri": "https://localhost:8080/"
        },
        "id": "Bj4P3Z0ksREo",
        "outputId": "53c8e37e-08c0-407b-a6bb-5b966632539f"
      },
      "execution_count": 7,
      "outputs": [
        {
          "output_type": "execute_result",
          "data": {
            "text/plain": [
              "30000"
            ]
          },
          "metadata": {},
          "execution_count": 7
        }
      ]
    },
    {
      "cell_type": "code",
      "source": [
        "print(np.unique(y_train, return_counts=True))\n",
        "np.unique(y_test, return_counts=True)"
      ],
      "metadata": {
        "colab": {
          "base_uri": "https://localhost:8080/"
        },
        "id": "n-9EUoIpsVjS",
        "outputId": "57143ae3-414a-4710-9589-938c21070d98"
      },
      "execution_count": 8,
      "outputs": [
        {
          "output_type": "stream",
          "name": "stdout",
          "text": [
            "(array([0, 1]), array([2800,  560]))\n"
          ]
        },
        {
          "output_type": "execute_result",
          "data": {
            "text/plain": [
              "(array([0, 1]), array([700, 140]))"
            ]
          },
          "metadata": {},
          "execution_count": 8
        }
      ]
    },
    {
      "cell_type": "code",
      "source": [
        "##########################################################\n",
        "################ Redes convolucionales ###################\n",
        "##########################################################\n",
        "\n",
        "cnn_model = tf.keras.Sequential([\n",
        "    tf.keras.layers.Conv2D(16, kernel_size=(3, 3), activation='relu', input_shape=x_train.shape[1:]),\n",
        "    tf.keras.layers.MaxPooling2D(pool_size=(2, 2)),\n",
        "    tf.keras.layers.Conv2D(32, kernel_size=(3, 3), activation='relu'),\n",
        "    tf.keras.layers.MaxPooling2D(pool_size=(2, 2)),\n",
        "    tf.keras.layers.Flatten(),\n",
        "    tf.keras.layers.Dense(64, activation='relu'),\n",
        "    tf.keras.layers.Dense(1, activation='sigmoid')\n",
        "])\n",
        "\n",
        "# Compile the model with binary cross-entropy loss and Adam optimizer\n",
        "cnn_model.compile(loss='binary_crossentropy', optimizer='adam', metrics=['AUC', 'Precision','Accuracy'])"
      ],
      "metadata": {
        "id": "5ZPufC4JslQE"
      },
      "execution_count": 25,
      "outputs": []
    },
    {
      "cell_type": "code",
      "source": [
        "# Train the model for 10 epochs\n",
        "cnn_model.fit(x_train, y_train, batch_size=100, epochs=10, validation_data=(x_test, y_test))"
      ],
      "metadata": {
        "colab": {
          "base_uri": "https://localhost:8080/"
        },
        "id": "EyT_Xi3IspXj",
        "outputId": "ae4b0ee2-4876-4ac9-d8bf-4eed8fb0e8ee"
      },
      "execution_count": 26,
      "outputs": [
        {
          "output_type": "stream",
          "name": "stdout",
          "text": [
            "Epoch 1/10\n",
            "34/34 [==============================] - 32s 903ms/step - loss: 0.3396 - auc: 0.8142 - precision: 0.7126 - Accuracy: 0.8646 - val_loss: 0.3446 - val_auc: 0.9235 - val_precision: 0.6667 - val_Accuracy: 0.8357\n",
            "Epoch 2/10\n",
            "34/34 [==============================] - 28s 831ms/step - loss: 0.1755 - auc: 0.9532 - precision: 0.8801 - Accuracy: 0.9333 - val_loss: 0.3447 - val_auc: 0.9594 - val_precision: 0.9000 - val_Accuracy: 0.8429\n",
            "Epoch 3/10\n",
            "34/34 [==============================] - 30s 892ms/step - loss: 0.1214 - auc: 0.9827 - precision: 0.9189 - Accuracy: 0.9533 - val_loss: 0.2011 - val_auc: 0.9743 - val_precision: 0.9455 - val_Accuracy: 0.8917\n",
            "Epoch 4/10\n",
            "34/34 [==============================] - 27s 785ms/step - loss: 0.1102 - auc: 0.9834 - precision: 0.9374 - Accuracy: 0.9580 - val_loss: 0.1728 - val_auc: 0.9788 - val_precision: 0.9398 - val_Accuracy: 0.9202\n",
            "Epoch 5/10\n",
            "34/34 [==============================] - 30s 905ms/step - loss: 0.0836 - auc: 0.9903 - precision: 0.9679 - Accuracy: 0.9723 - val_loss: 0.2090 - val_auc: 0.9834 - val_precision: 0.8780 - val_Accuracy: 0.8702\n",
            "Epoch 6/10\n",
            "34/34 [==============================] - 36s 1s/step - loss: 0.0779 - auc: 0.9926 - precision: 0.9497 - Accuracy: 0.9717 - val_loss: 0.1972 - val_auc: 0.9879 - val_precision: 0.9767 - val_Accuracy: 0.8821\n",
            "Epoch 7/10\n",
            "34/34 [==============================] - 29s 860ms/step - loss: 0.0695 - auc: 0.9935 - precision: 0.9591 - Accuracy: 0.9735 - val_loss: 0.0964 - val_auc: 0.9912 - val_precision: 0.8859 - val_Accuracy: 0.9702\n",
            "Epoch 8/10\n",
            "34/34 [==============================] - 29s 857ms/step - loss: 0.0571 - auc: 0.9959 - precision: 0.9660 - Accuracy: 0.9804 - val_loss: 0.0928 - val_auc: 0.9912 - val_precision: 0.9466 - val_Accuracy: 0.9726\n",
            "Epoch 9/10\n",
            "34/34 [==============================] - 29s 846ms/step - loss: 0.0544 - auc: 0.9956 - precision: 0.9679 - Accuracy: 0.9810 - val_loss: 0.0998 - val_auc: 0.9881 - val_precision: 0.9593 - val_Accuracy: 0.9679\n",
            "Epoch 10/10\n",
            "34/34 [==============================] - 29s 856ms/step - loss: 0.0420 - auc: 0.9971 - precision: 0.9796 - Accuracy: 0.9869 - val_loss: 0.0615 - val_auc: 0.9928 - val_precision: 0.9635 - val_Accuracy: 0.9845\n"
          ]
        },
        {
          "output_type": "execute_result",
          "data": {
            "text/plain": [
              "<keras.src.callbacks.History at 0x77fd256ebc70>"
            ]
          },
          "metadata": {},
          "execution_count": 26
        }
      ]
    },
    {
      "cell_type": "markdown",
      "source": [
        "Analizando la métrica AUC se observan buenos rendimientos, ya que tanto en entrenamiento como en evaluación tiene valores muy buenos de aproximadamente 0,99, por lo que no se han identificado problemas de subajuste (underfitting) ni de sobreajuste (overfitting), lo que sugiere que no será necesario implementar técnicas de regularización ni afinamiento de hiperparametros en este momento."
      ],
      "metadata": {
        "id": "Z3uen10vBAZM"
      }
    },
    {
      "cell_type": "code",
      "source": [
        "#################### Mejor redes ##############\n",
        "\n",
        "joblib.dump(cnn_model, \"/content/drive/MyDrive/TB_Chest_Radiography_Database/salidas/cnn_model.pkl\")"
      ],
      "metadata": {
        "colab": {
          "base_uri": "https://localhost:8080/"
        },
        "id": "2TDNkECStYsp",
        "outputId": "b6ca6a6f-7958-4e9a-9ddb-80372b07c6b0"
      },
      "execution_count": 27,
      "outputs": [
        {
          "output_type": "execute_result",
          "data": {
            "text/plain": [
              "['/content/drive/MyDrive/TB_Chest_Radiography_Database/salidas/cnn_model.pkl']"
            ]
          },
          "metadata": {},
          "execution_count": 27
        }
      ]
    }
  ]
}